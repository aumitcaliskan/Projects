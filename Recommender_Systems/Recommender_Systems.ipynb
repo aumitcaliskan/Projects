{
 "cells": [
  {
   "cell_type": "markdown",
   "id": "6161b71d",
   "metadata": {},
   "source": [
    "### Importing Libraries"
   ]
  },
  {
   "cell_type": "code",
   "execution_count": 1,
   "id": "f970ccd9",
   "metadata": {},
   "outputs": [],
   "source": [
    "import numpy as np\n",
    "import pandas as pd\n",
    "import matplotlib.pyplot as plt\n",
    "from scipy.sparse import csr_matrix\n",
    "from sklearn.neighbors import NearestNeighbors\n",
    "from sklearn.feature_extraction.text import TfidfVectorizer, CountVectorizer\n",
    "from sklearn.metrics.pairwise import linear_kernel, cosine_similarity\n",
    "import tensorflow as tf\n",
    "from tensorflow import keras"
   ]
  },
  {
   "cell_type": "markdown",
   "id": "01218dd3",
   "metadata": {},
   "source": [
    "### Reading the datasets"
   ]
  },
  {
   "cell_type": "code",
   "execution_count": 2,
   "id": "3b75edf7",
   "metadata": {},
   "outputs": [],
   "source": [
    "ratings = pd.read_csv('C:/Users/ahmet/Desktop/Recommender_Systems/ml-latest-small/ratings.csv')\n",
    "movies = pd.read_csv('C:/Users/ahmet/Desktop/Recommender_Systems/ml-latest-small/movies.csv')  "
   ]
  },
  {
   "cell_type": "code",
   "execution_count": 3,
   "id": "f686c155",
   "metadata": {},
   "outputs": [
    {
     "data": {
      "text/html": [
       "<div>\n",
       "<style scoped>\n",
       "    .dataframe tbody tr th:only-of-type {\n",
       "        vertical-align: middle;\n",
       "    }\n",
       "\n",
       "    .dataframe tbody tr th {\n",
       "        vertical-align: top;\n",
       "    }\n",
       "\n",
       "    .dataframe thead th {\n",
       "        text-align: right;\n",
       "    }\n",
       "</style>\n",
       "<table border=\"1\" class=\"dataframe\">\n",
       "  <thead>\n",
       "    <tr style=\"text-align: right;\">\n",
       "      <th></th>\n",
       "      <th>userId</th>\n",
       "      <th>movieId</th>\n",
       "      <th>rating</th>\n",
       "      <th>timestamp</th>\n",
       "    </tr>\n",
       "  </thead>\n",
       "  <tbody>\n",
       "    <tr>\n",
       "      <th>71726</th>\n",
       "      <td>462</td>\n",
       "      <td>2970</td>\n",
       "      <td>3.0</td>\n",
       "      <td>1129037827</td>\n",
       "    </tr>\n",
       "    <tr>\n",
       "      <th>42304</th>\n",
       "      <td>288</td>\n",
       "      <td>1225</td>\n",
       "      <td>4.0</td>\n",
       "      <td>979163436</td>\n",
       "    </tr>\n",
       "    <tr>\n",
       "      <th>6918</th>\n",
       "      <td>47</td>\n",
       "      <td>31</td>\n",
       "      <td>3.0</td>\n",
       "      <td>1496205717</td>\n",
       "    </tr>\n",
       "    <tr>\n",
       "      <th>60759</th>\n",
       "      <td>391</td>\n",
       "      <td>4967</td>\n",
       "      <td>3.0</td>\n",
       "      <td>1030945731</td>\n",
       "    </tr>\n",
       "    <tr>\n",
       "      <th>54168</th>\n",
       "      <td>357</td>\n",
       "      <td>529</td>\n",
       "      <td>3.5</td>\n",
       "      <td>1348611719</td>\n",
       "    </tr>\n",
       "  </tbody>\n",
       "</table>\n",
       "</div>"
      ],
      "text/plain": [
       "       userId  movieId  rating   timestamp\n",
       "71726     462     2970     3.0  1129037827\n",
       "42304     288     1225     4.0   979163436\n",
       "6918       47       31     3.0  1496205717\n",
       "60759     391     4967     3.0  1030945731\n",
       "54168     357      529     3.5  1348611719"
      ]
     },
     "execution_count": 3,
     "metadata": {},
     "output_type": "execute_result"
    }
   ],
   "source": [
    "ratings.sample(5)"
   ]
  },
  {
   "cell_type": "code",
   "execution_count": 4,
   "id": "bf959a66",
   "metadata": {},
   "outputs": [
    {
     "name": "stdout",
     "output_type": "stream",
     "text": [
      "<class 'pandas.core.frame.DataFrame'>\n",
      "RangeIndex: 100836 entries, 0 to 100835\n",
      "Data columns (total 4 columns):\n",
      " #   Column     Non-Null Count   Dtype  \n",
      "---  ------     --------------   -----  \n",
      " 0   userId     100836 non-null  int64  \n",
      " 1   movieId    100836 non-null  int64  \n",
      " 2   rating     100836 non-null  float64\n",
      " 3   timestamp  100836 non-null  int64  \n",
      "dtypes: float64(1), int64(3)\n",
      "memory usage: 3.1 MB\n"
     ]
    }
   ],
   "source": [
    "ratings.info()"
   ]
  },
  {
   "cell_type": "code",
   "execution_count": 5,
   "id": "a253efde",
   "metadata": {},
   "outputs": [
    {
     "data": {
      "text/html": [
       "<div>\n",
       "<style scoped>\n",
       "    .dataframe tbody tr th:only-of-type {\n",
       "        vertical-align: middle;\n",
       "    }\n",
       "\n",
       "    .dataframe tbody tr th {\n",
       "        vertical-align: top;\n",
       "    }\n",
       "\n",
       "    .dataframe thead th {\n",
       "        text-align: right;\n",
       "    }\n",
       "</style>\n",
       "<table border=\"1\" class=\"dataframe\">\n",
       "  <thead>\n",
       "    <tr style=\"text-align: right;\">\n",
       "      <th></th>\n",
       "      <th>movieId</th>\n",
       "      <th>title</th>\n",
       "      <th>genres</th>\n",
       "    </tr>\n",
       "  </thead>\n",
       "  <tbody>\n",
       "    <tr>\n",
       "      <th>355</th>\n",
       "      <td>410</td>\n",
       "      <td>Addams Family Values (1993)</td>\n",
       "      <td>Children|Comedy|Fantasy</td>\n",
       "    </tr>\n",
       "    <tr>\n",
       "      <th>7036</th>\n",
       "      <td>68932</td>\n",
       "      <td>Soloist, The (2009)</td>\n",
       "      <td>Drama|Musical</td>\n",
       "    </tr>\n",
       "    <tr>\n",
       "      <th>4770</th>\n",
       "      <td>7101</td>\n",
       "      <td>Doc Hollywood (1991)</td>\n",
       "      <td>Comedy|Romance</td>\n",
       "    </tr>\n",
       "    <tr>\n",
       "      <th>2879</th>\n",
       "      <td>3849</td>\n",
       "      <td>The Spiral Staircase (1945)</td>\n",
       "      <td>Horror|Mystery|Thriller</td>\n",
       "    </tr>\n",
       "    <tr>\n",
       "      <th>156</th>\n",
       "      <td>185</td>\n",
       "      <td>Net, The (1995)</td>\n",
       "      <td>Action|Crime|Thriller</td>\n",
       "    </tr>\n",
       "  </tbody>\n",
       "</table>\n",
       "</div>"
      ],
      "text/plain": [
       "      movieId                        title                   genres\n",
       "355       410  Addams Family Values (1993)  Children|Comedy|Fantasy\n",
       "7036    68932          Soloist, The (2009)            Drama|Musical\n",
       "4770     7101         Doc Hollywood (1991)           Comedy|Romance\n",
       "2879     3849  The Spiral Staircase (1945)  Horror|Mystery|Thriller\n",
       "156       185              Net, The (1995)    Action|Crime|Thriller"
      ]
     },
     "execution_count": 5,
     "metadata": {},
     "output_type": "execute_result"
    }
   ],
   "source": [
    "movies.sample(5)"
   ]
  },
  {
   "cell_type": "code",
   "execution_count": 6,
   "id": "339b686c",
   "metadata": {},
   "outputs": [
    {
     "name": "stdout",
     "output_type": "stream",
     "text": [
      "<class 'pandas.core.frame.DataFrame'>\n",
      "RangeIndex: 9742 entries, 0 to 9741\n",
      "Data columns (total 3 columns):\n",
      " #   Column   Non-Null Count  Dtype \n",
      "---  ------   --------------  ----- \n",
      " 0   movieId  9742 non-null   int64 \n",
      " 1   title    9742 non-null   object\n",
      " 2   genres   9742 non-null   object\n",
      "dtypes: int64(1), object(2)\n",
      "memory usage: 228.5+ KB\n"
     ]
    }
   ],
   "source": [
    "movies.info()"
   ]
  },
  {
   "cell_type": "markdown",
   "id": "44021320",
   "metadata": {},
   "source": [
    "# 1. SIMPLE RECOMMENDER"
   ]
  },
  {
   "cell_type": "markdown",
   "id": "cf25376a",
   "metadata": {},
   "source": [
    "* Recommendation is based on movie rating. \n",
    "* Weighted average rating is calculated.\n",
    "* KNN model is used to suggest closest movies to the watched movie based on weighted average rating. "
   ]
  },
  {
   "cell_type": "code",
   "execution_count": 7,
   "id": "fd0ebdfd",
   "metadata": {},
   "outputs": [],
   "source": [
    "df = ratings.merge(movies, on='movieId', how='left')"
   ]
  },
  {
   "cell_type": "code",
   "execution_count": 8,
   "id": "5279139f",
   "metadata": {},
   "outputs": [
    {
     "name": "stdout",
     "output_type": "stream",
     "text": [
      "<class 'pandas.core.frame.DataFrame'>\n",
      "Int64Index: 100836 entries, 0 to 100835\n",
      "Data columns (total 6 columns):\n",
      " #   Column     Non-Null Count   Dtype  \n",
      "---  ------     --------------   -----  \n",
      " 0   userId     100836 non-null  int64  \n",
      " 1   movieId    100836 non-null  int64  \n",
      " 2   rating     100836 non-null  float64\n",
      " 3   timestamp  100836 non-null  int64  \n",
      " 4   title      100836 non-null  object \n",
      " 5   genres     100836 non-null  object \n",
      "dtypes: float64(1), int64(3), object(2)\n",
      "memory usage: 5.4+ MB\n"
     ]
    }
   ],
   "source": [
    "df.info()"
   ]
  },
  {
   "cell_type": "code",
   "execution_count": 9,
   "id": "e83ca7fa",
   "metadata": {},
   "outputs": [],
   "source": [
    "df_rating = pd.DataFrame(df.groupby('movieId')['rating'].mean()).rename(columns={'rating':'avg_rating'}).reset_index()"
   ]
  },
  {
   "cell_type": "code",
   "execution_count": 10,
   "id": "7608b73d",
   "metadata": {},
   "outputs": [],
   "source": [
    "df_rating['count_rating'] = pd.DataFrame(df.groupby('movieId')['rating'].count()).rename(columns={'rating':'count_rating'}).reset_index()['count_rating']"
   ]
  },
  {
   "cell_type": "code",
   "execution_count": 11,
   "id": "df45bf97",
   "metadata": {},
   "outputs": [
    {
     "name": "stdout",
     "output_type": "stream",
     "text": [
      "<class 'pandas.core.frame.DataFrame'>\n",
      "RangeIndex: 9724 entries, 0 to 9723\n",
      "Data columns (total 3 columns):\n",
      " #   Column        Non-Null Count  Dtype  \n",
      "---  ------        --------------  -----  \n",
      " 0   movieId       9724 non-null   int64  \n",
      " 1   avg_rating    9724 non-null   float64\n",
      " 2   count_rating  9724 non-null   int64  \n",
      "dtypes: float64(1), int64(2)\n",
      "memory usage: 228.0 KB\n"
     ]
    }
   ],
   "source": [
    "df_rating.info()"
   ]
  },
  {
   "cell_type": "code",
   "execution_count": 12,
   "id": "72f1757b",
   "metadata": {},
   "outputs": [
    {
     "data": {
      "text/html": [
       "<div>\n",
       "<style scoped>\n",
       "    .dataframe tbody tr th:only-of-type {\n",
       "        vertical-align: middle;\n",
       "    }\n",
       "\n",
       "    .dataframe tbody tr th {\n",
       "        vertical-align: top;\n",
       "    }\n",
       "\n",
       "    .dataframe thead th {\n",
       "        text-align: right;\n",
       "    }\n",
       "</style>\n",
       "<table border=\"1\" class=\"dataframe\">\n",
       "  <thead>\n",
       "    <tr style=\"text-align: right;\">\n",
       "      <th></th>\n",
       "      <th>movieId</th>\n",
       "      <th>avg_rating</th>\n",
       "      <th>count_rating</th>\n",
       "    </tr>\n",
       "  </thead>\n",
       "  <tbody>\n",
       "    <tr>\n",
       "      <th>0</th>\n",
       "      <td>1</td>\n",
       "      <td>3.920930</td>\n",
       "      <td>215</td>\n",
       "    </tr>\n",
       "    <tr>\n",
       "      <th>1</th>\n",
       "      <td>2</td>\n",
       "      <td>3.431818</td>\n",
       "      <td>110</td>\n",
       "    </tr>\n",
       "    <tr>\n",
       "      <th>2</th>\n",
       "      <td>3</td>\n",
       "      <td>3.259615</td>\n",
       "      <td>52</td>\n",
       "    </tr>\n",
       "    <tr>\n",
       "      <th>3</th>\n",
       "      <td>4</td>\n",
       "      <td>2.357143</td>\n",
       "      <td>7</td>\n",
       "    </tr>\n",
       "    <tr>\n",
       "      <th>4</th>\n",
       "      <td>5</td>\n",
       "      <td>3.071429</td>\n",
       "      <td>49</td>\n",
       "    </tr>\n",
       "  </tbody>\n",
       "</table>\n",
       "</div>"
      ],
      "text/plain": [
       "   movieId  avg_rating  count_rating\n",
       "0        1    3.920930           215\n",
       "1        2    3.431818           110\n",
       "2        3    3.259615            52\n",
       "3        4    2.357143             7\n",
       "4        5    3.071429            49"
      ]
     },
     "execution_count": 12,
     "metadata": {},
     "output_type": "execute_result"
    }
   ],
   "source": [
    "df_rating.head()"
   ]
  },
  {
   "cell_type": "code",
   "execution_count": 13,
   "id": "623b5f15",
   "metadata": {},
   "outputs": [],
   "source": [
    "df = df.merge(df_rating, on='movieId', how='left')"
   ]
  },
  {
   "cell_type": "code",
   "execution_count": 14,
   "id": "13d0a2e6",
   "metadata": {},
   "outputs": [],
   "source": [
    "# Merged dataframe: df"
   ]
  },
  {
   "cell_type": "code",
   "execution_count": 15,
   "id": "4a9d479d",
   "metadata": {},
   "outputs": [
    {
     "data": {
      "text/html": [
       "<div>\n",
       "<style scoped>\n",
       "    .dataframe tbody tr th:only-of-type {\n",
       "        vertical-align: middle;\n",
       "    }\n",
       "\n",
       "    .dataframe tbody tr th {\n",
       "        vertical-align: top;\n",
       "    }\n",
       "\n",
       "    .dataframe thead th {\n",
       "        text-align: right;\n",
       "    }\n",
       "</style>\n",
       "<table border=\"1\" class=\"dataframe\">\n",
       "  <thead>\n",
       "    <tr style=\"text-align: right;\">\n",
       "      <th></th>\n",
       "      <th>userId</th>\n",
       "      <th>movieId</th>\n",
       "      <th>rating</th>\n",
       "      <th>timestamp</th>\n",
       "      <th>title</th>\n",
       "      <th>genres</th>\n",
       "      <th>avg_rating</th>\n",
       "      <th>count_rating</th>\n",
       "    </tr>\n",
       "  </thead>\n",
       "  <tbody>\n",
       "    <tr>\n",
       "      <th>82468</th>\n",
       "      <td>523</td>\n",
       "      <td>101962</td>\n",
       "      <td>5.0</td>\n",
       "      <td>1507987871</td>\n",
       "      <td>Wolf Children (Okami kodomo no ame to yuki) (2...</td>\n",
       "      <td>Animation|Fantasy</td>\n",
       "      <td>4.000000</td>\n",
       "      <td>4</td>\n",
       "    </tr>\n",
       "    <tr>\n",
       "      <th>97843</th>\n",
       "      <td>606</td>\n",
       "      <td>3010</td>\n",
       "      <td>4.0</td>\n",
       "      <td>1171737820</td>\n",
       "      <td>Rosetta (1999)</td>\n",
       "      <td>Drama</td>\n",
       "      <td>4.000000</td>\n",
       "      <td>1</td>\n",
       "    </tr>\n",
       "    <tr>\n",
       "      <th>64970</th>\n",
       "      <td>414</td>\n",
       "      <td>171763</td>\n",
       "      <td>5.0</td>\n",
       "      <td>1511535821</td>\n",
       "      <td>Baby Driver (2017)</td>\n",
       "      <td>Action|Crime|Thriller</td>\n",
       "      <td>4.333333</td>\n",
       "      <td>9</td>\n",
       "    </tr>\n",
       "    <tr>\n",
       "      <th>64764</th>\n",
       "      <td>414</td>\n",
       "      <td>69526</td>\n",
       "      <td>2.5</td>\n",
       "      <td>1246413702</td>\n",
       "      <td>Transformers: Revenge of the Fallen (2009)</td>\n",
       "      <td>Action|Adventure|Sci-Fi|IMAX</td>\n",
       "      <td>2.425000</td>\n",
       "      <td>20</td>\n",
       "    </tr>\n",
       "    <tr>\n",
       "      <th>55619</th>\n",
       "      <td>368</td>\n",
       "      <td>1833</td>\n",
       "      <td>2.0</td>\n",
       "      <td>975829568</td>\n",
       "      <td>Mercury Rising (1998)</td>\n",
       "      <td>Action|Drama|Thriller</td>\n",
       "      <td>3.000000</td>\n",
       "      <td>13</td>\n",
       "    </tr>\n",
       "  </tbody>\n",
       "</table>\n",
       "</div>"
      ],
      "text/plain": [
       "       userId  movieId  rating   timestamp  \\\n",
       "82468     523   101962     5.0  1507987871   \n",
       "97843     606     3010     4.0  1171737820   \n",
       "64970     414   171763     5.0  1511535821   \n",
       "64764     414    69526     2.5  1246413702   \n",
       "55619     368     1833     2.0   975829568   \n",
       "\n",
       "                                                   title  \\\n",
       "82468  Wolf Children (Okami kodomo no ame to yuki) (2...   \n",
       "97843                                     Rosetta (1999)   \n",
       "64970                                 Baby Driver (2017)   \n",
       "64764         Transformers: Revenge of the Fallen (2009)   \n",
       "55619                              Mercury Rising (1998)   \n",
       "\n",
       "                             genres  avg_rating  count_rating  \n",
       "82468             Animation|Fantasy    4.000000             4  \n",
       "97843                         Drama    4.000000             1  \n",
       "64970         Action|Crime|Thriller    4.333333             9  \n",
       "64764  Action|Adventure|Sci-Fi|IMAX    2.425000            20  \n",
       "55619         Action|Drama|Thriller    3.000000            13  "
      ]
     },
     "execution_count": 15,
     "metadata": {},
     "output_type": "execute_result"
    }
   ],
   "source": [
    "df.sample(5)"
   ]
  },
  {
   "cell_type": "code",
   "execution_count": 16,
   "id": "fb80cc05",
   "metadata": {},
   "outputs": [],
   "source": [
    "# Average of rating"
   ]
  },
  {
   "cell_type": "code",
   "execution_count": 17,
   "id": "1c70f236",
   "metadata": {},
   "outputs": [
    {
     "data": {
      "text/plain": [
       "3.50155698361711"
      ]
     },
     "execution_count": 17,
     "metadata": {},
     "output_type": "execute_result"
    }
   ],
   "source": [
    "ar_mean = df['avg_rating'].mean()\n",
    "ar_mean"
   ]
  },
  {
   "cell_type": "code",
   "execution_count": 18,
   "id": "4ec16fbf",
   "metadata": {},
   "outputs": [
    {
     "data": {
      "image/png": "[encoded data removed]",
      "text/plain": [
       "<Figure size 432x288 with 1 Axes>"
      ]
     },
     "metadata": {
      "needs_background": "light"
     },
     "output_type": "display_data"
    }
   ],
   "source": [
    "df['count_rating'].plot(kind = 'box');"
   ]
  },
  {
   "cell_type": "code",
   "execution_count": 19,
   "id": "67e40f84",
   "metadata": {},
   "outputs": [],
   "source": [
    "# the condition to create most rated movies."
   ]
  },
  {
   "cell_type": "code",
   "execution_count": 20,
   "id": "7d7fdd8a",
   "metadata": {},
   "outputs": [
    {
     "data": {
      "text/plain": [
       "84.0"
      ]
     },
     "execution_count": 20,
     "metadata": {},
     "output_type": "execute_result"
    }
   ],
   "source": [
    "cr_condition = df['count_rating'].quantile(0.75)\n",
    "cr_condition"
   ]
  },
  {
   "cell_type": "code",
   "execution_count": 21,
   "id": "fcafd16c",
   "metadata": {},
   "outputs": [],
   "source": [
    "df['weighted_average'] = (((df['avg_rating'] * df['count_rating'])+(ar_mean * cr_condition))/(df['count_rating'] + cr_condition))"
   ]
  },
  {
   "cell_type": "code",
   "execution_count": 22,
   "id": "b93adc4e",
   "metadata": {},
   "outputs": [],
   "source": [
    "simple = df[['title','avg_rating','count_rating','weighted_average']].drop_duplicates().sort_values('weighted_average', ascending=False)"
   ]
  },
  {
   "cell_type": "code",
   "execution_count": 23,
   "id": "3c1682ad",
   "metadata": {},
   "outputs": [
    {
     "data": {
      "text/html": [
       "<div>\n",
       "<style scoped>\n",
       "    .dataframe tbody tr th:only-of-type {\n",
       "        vertical-align: middle;\n",
       "    }\n",
       "\n",
       "    .dataframe tbody tr th {\n",
       "        vertical-align: top;\n",
       "    }\n",
       "\n",
       "    .dataframe thead th {\n",
       "        text-align: right;\n",
       "    }\n",
       "</style>\n",
       "<table border=\"1\" class=\"dataframe\">\n",
       "  <thead>\n",
       "    <tr style=\"text-align: right;\">\n",
       "      <th></th>\n",
       "      <th>title</th>\n",
       "      <th>avg_rating</th>\n",
       "      <th>count_rating</th>\n",
       "      <th>weighted_average</th>\n",
       "    </tr>\n",
       "  </thead>\n",
       "  <tbody>\n",
       "    <tr>\n",
       "      <th>232</th>\n",
       "      <td>Shawshank Redemption, The (1994)</td>\n",
       "      <td>4.429022</td>\n",
       "      <td>317</td>\n",
       "      <td>4.234740</td>\n",
       "    </tr>\n",
       "    <tr>\n",
       "      <th>192</th>\n",
       "      <td>Fight Club (1999)</td>\n",
       "      <td>4.272936</td>\n",
       "      <td>218</td>\n",
       "      <td>4.058380</td>\n",
       "    </tr>\n",
       "    <tr>\n",
       "      <th>1453</th>\n",
       "      <td>Godfather, The (1972)</td>\n",
       "      <td>4.289062</td>\n",
       "      <td>192</td>\n",
       "      <td>4.049387</td>\n",
       "    </tr>\n",
       "    <tr>\n",
       "      <th>15</th>\n",
       "      <td>Star Wars: Episode IV - A New Hope (1977)</td>\n",
       "      <td>4.231076</td>\n",
       "      <td>251</td>\n",
       "      <td>4.048152</td>\n",
       "    </tr>\n",
       "    <tr>\n",
       "      <th>16</th>\n",
       "      <td>Pulp Fiction (1994)</td>\n",
       "      <td>4.197068</td>\n",
       "      <td>307</td>\n",
       "      <td>4.047649</td>\n",
       "    </tr>\n",
       "    <tr>\n",
       "      <th>166</th>\n",
       "      <td>Matrix, The (1999)</td>\n",
       "      <td>4.192446</td>\n",
       "      <td>278</td>\n",
       "      <td>4.032129</td>\n",
       "    </tr>\n",
       "    <tr>\n",
       "      <th>20</th>\n",
       "      <td>Forrest Gump (1994)</td>\n",
       "      <td>4.164134</td>\n",
       "      <td>329</td>\n",
       "      <td>4.029372</td>\n",
       "    </tr>\n",
       "    <tr>\n",
       "      <th>28</th>\n",
       "      <td>Schindler's List (1993)</td>\n",
       "      <td>4.225000</td>\n",
       "      <td>220</td>\n",
       "      <td>4.025101</td>\n",
       "    </tr>\n",
       "    <tr>\n",
       "      <th>4</th>\n",
       "      <td>Usual Suspects, The (1995)</td>\n",
       "      <td>4.237745</td>\n",
       "      <td>204</td>\n",
       "      <td>4.023024</td>\n",
       "    </tr>\n",
       "    <tr>\n",
       "      <th>68</th>\n",
       "      <td>Star Wars: Episode V - The Empire Strikes Back...</td>\n",
       "      <td>4.215640</td>\n",
       "      <td>211</td>\n",
       "      <td>4.012308</td>\n",
       "    </tr>\n",
       "    <tr>\n",
       "      <th>34</th>\n",
       "      <td>Silence of the Lambs, The (1991)</td>\n",
       "      <td>4.161290</td>\n",
       "      <td>279</td>\n",
       "      <td>4.008625</td>\n",
       "    </tr>\n",
       "    <tr>\n",
       "      <th>70</th>\n",
       "      <td>Raiders of the Lost Ark (Indiana Jones and the...</td>\n",
       "      <td>4.207500</td>\n",
       "      <td>200</td>\n",
       "      <td>3.998700</td>\n",
       "    </tr>\n",
       "    <tr>\n",
       "      <th>240</th>\n",
       "      <td>Dark Knight, The (2008)</td>\n",
       "      <td>4.238255</td>\n",
       "      <td>149</td>\n",
       "      <td>3.972664</td>\n",
       "    </tr>\n",
       "    <tr>\n",
       "      <th>69</th>\n",
       "      <td>Princess Bride, The (1987)</td>\n",
       "      <td>4.232394</td>\n",
       "      <td>142</td>\n",
       "      <td>3.960756</td>\n",
       "    </tr>\n",
       "    <tr>\n",
       "      <th>1707</th>\n",
       "      <td>Godfather: Part II, The (1974)</td>\n",
       "      <td>4.259690</td>\n",
       "      <td>129</td>\n",
       "      <td>3.960708</td>\n",
       "    </tr>\n",
       "    <tr>\n",
       "      <th>74</th>\n",
       "      <td>Goodfellas (1990)</td>\n",
       "      <td>4.250000</td>\n",
       "      <td>126</td>\n",
       "      <td>3.950623</td>\n",
       "    </tr>\n",
       "    <tr>\n",
       "      <th>121</th>\n",
       "      <td>Saving Private Ryan (1998)</td>\n",
       "      <td>4.146277</td>\n",
       "      <td>188</td>\n",
       "      <td>3.947172</td>\n",
       "    </tr>\n",
       "    <tr>\n",
       "      <th>73</th>\n",
       "      <td>Star Wars: Episode VI - Return of the Jedi (1983)</td>\n",
       "      <td>4.137755</td>\n",
       "      <td>196</td>\n",
       "      <td>3.946896</td>\n",
       "    </tr>\n",
       "    <tr>\n",
       "      <th>147</th>\n",
       "      <td>American History X (1998)</td>\n",
       "      <td>4.217054</td>\n",
       "      <td>129</td>\n",
       "      <td>3.934886</td>\n",
       "    </tr>\n",
       "    <tr>\n",
       "      <th>1598</th>\n",
       "      <td>One Flew Over the Cuckoo's Nest (1975)</td>\n",
       "      <td>4.203008</td>\n",
       "      <td>133</td>\n",
       "      <td>3.931478</td>\n",
       "    </tr>\n",
       "  </tbody>\n",
       "</table>\n",
       "</div>"
      ],
      "text/plain": [
       "                                                  title  avg_rating  \\\n",
       "232                    Shawshank Redemption, The (1994)    4.429022   \n",
       "192                                   Fight Club (1999)    4.272936   \n",
       "1453                              Godfather, The (1972)    4.289062   \n",
       "15            Star Wars: Episode IV - A New Hope (1977)    4.231076   \n",
       "16                                  Pulp Fiction (1994)    4.197068   \n",
       "166                                  Matrix, The (1999)    4.192446   \n",
       "20                                  Forrest Gump (1994)    4.164134   \n",
       "28                              Schindler's List (1993)    4.225000   \n",
       "4                            Usual Suspects, The (1995)    4.237745   \n",
       "68    Star Wars: Episode V - The Empire Strikes Back...    4.215640   \n",
       "34                     Silence of the Lambs, The (1991)    4.161290   \n",
       "70    Raiders of the Lost Ark (Indiana Jones and the...    4.207500   \n",
       "240                             Dark Knight, The (2008)    4.238255   \n",
       "69                           Princess Bride, The (1987)    4.232394   \n",
       "1707                     Godfather: Part II, The (1974)    4.259690   \n",
       "74                                    Goodfellas (1990)    4.250000   \n",
       "121                          Saving Private Ryan (1998)    4.146277   \n",
       "73    Star Wars: Episode VI - Return of the Jedi (1983)    4.137755   \n",
       "147                           American History X (1998)    4.217054   \n",
       "1598             One Flew Over the Cuckoo's Nest (1975)    4.203008   \n",
       "\n",
       "      count_rating  weighted_average  \n",
       "232            317          4.234740  \n",
       "192            218          4.058380  \n",
       "1453           192          4.049387  \n",
       "15             251          4.048152  \n",
       "16             307          4.047649  \n",
       "166            278          4.032129  \n",
       "20             329          4.029372  \n",
       "28             220          4.025101  \n",
       "4              204          4.023024  \n",
       "68             211          4.012308  \n",
       "34             279          4.008625  \n",
       "70             200          3.998700  \n",
       "240            149          3.972664  \n",
       "69             142          3.960756  \n",
       "1707           129          3.960708  \n",
       "74             126          3.950623  \n",
       "121            188          3.947172  \n",
       "73             196          3.946896  \n",
       "147            129          3.934886  \n",
       "1598           133          3.931478  "
      ]
     },
     "execution_count": 23,
     "metadata": {},
     "output_type": "execute_result"
    }
   ],
   "source": [
    "simple.head(20)"
   ]
  },
  {
   "cell_type": "markdown",
   "id": "602dd9af",
   "metadata": {},
   "source": [
    "### KNN Model "
   ]
  },
  {
   "cell_type": "code",
   "execution_count": 24,
   "id": "007696d2",
   "metadata": {},
   "outputs": [],
   "source": [
    "most_rated = simple.set_index('title')"
   ]
  },
  {
   "cell_type": "code",
   "execution_count": 25,
   "id": "50970c38",
   "metadata": {},
   "outputs": [],
   "source": [
    "most_rated_matrix = csr_matrix(most_rated.values)"
   ]
  },
  {
   "cell_type": "code",
   "execution_count": 26,
   "id": "fe6cdd42",
   "metadata": {},
   "outputs": [
    {
     "data": {
      "text/plain": [
       "NearestNeighbors(algorithm='brute', metric='cosine', n_jobs=-1, n_neighbors=7)"
      ]
     },
     "execution_count": 26,
     "metadata": {},
     "output_type": "execute_result"
    }
   ],
   "source": [
    "model_knn = NearestNeighbors(metric='cosine', algorithm='brute', n_neighbors=7, n_jobs=-1)\n",
    "model_knn.fit(most_rated_matrix)"
   ]
  },
  {
   "cell_type": "markdown",
   "id": "6405a6d4",
   "metadata": {},
   "source": [
    "#### Recommendations based on Simple Recommender"
   ]
  },
  {
   "cell_type": "code",
   "execution_count": 27,
   "id": "18090ce8",
   "metadata": {},
   "outputs": [],
   "source": [
    "# Let's assume user watched 'Godfather, The (1972)'."
   ]
  },
  {
   "cell_type": "code",
   "execution_count": 28,
   "id": "86f132c2",
   "metadata": {},
   "outputs": [],
   "source": [
    "watched_movie = 'Godfather, The (1972)'"
   ]
  },
  {
   "cell_type": "code",
   "execution_count": 29,
   "id": "e55e7eb8",
   "metadata": {},
   "outputs": [],
   "source": [
    "query_index = most_rated.index.get_loc(watched_movie)"
   ]
  },
  {
   "cell_type": "code",
   "execution_count": 30,
   "id": "bcf0b234",
   "metadata": {},
   "outputs": [],
   "source": [
    "distances, indices = model_knn.kneighbors(most_rated.loc[watched_movie,:].values.reshape(1, -1), n_neighbors=11)"
   ]
  },
  {
   "cell_type": "code",
   "execution_count": 31,
   "id": "e3ce84c5",
   "metadata": {},
   "outputs": [
    {
     "name": "stdout",
     "output_type": "stream",
     "text": [
      "Recommendations for Godfather, The (1972):\n",
      "\n",
      "1: Lord of the Rings: The Return of the King, The (2003), with distance of 1.1445399072940177e-08:\n",
      "2: Saving Private Ryan (1998), with distance of 4.48184830359466e-08:\n",
      "3: Twelve Monkeys (a.k.a. 12 Monkeys) (1995), with distance of 1.5743659576017421e-07:\n",
      "4: Sixth Sense, The (1999), with distance of 1.7183546074939215e-07:\n",
      "5: Fargo (1996), with distance of 2.447947136108297e-07:\n",
      "6: Mission: Impossible (1996), with distance of 3.5058891079131627e-07:\n",
      "7: Shrek (2001), with distance of 5.333917980632208e-07:\n",
      "8: Lord of the Rings: The Two Towers, The (2002), with distance of 6.03069031490655e-07:\n",
      "9: Lion King, The (1994), with distance of 6.536960288627824e-07:\n",
      "10: Men in Black (a.k.a. MIB) (1997), with distance of 7.221792531764137e-07:\n"
     ]
    }
   ],
   "source": [
    "for i in range(0, len(distances.flatten())):\n",
    "    if i == 0:\n",
    "        print('Recommendations for {0}:\\n'.format(most_rated.index[query_index]))\n",
    "    else:\n",
    "        print('{0}: {1}, with distance of {2}:'.format(i, most_rated.index[indices.flatten()[i]], distances.flatten()[i]))"
   ]
  },
  {
   "cell_type": "markdown",
   "id": "b5f36637",
   "metadata": {},
   "source": [
    "# 2. CONTENT-BASED RECOMMENDER"
   ]
  },
  {
   "cell_type": "markdown",
   "id": "7832a739",
   "metadata": {},
   "source": [
    "* Suggests similar items based on tag and genre.\n",
    "* Two different vectorizers are used to recommend movies and get similar results."
   ]
  },
  {
   "cell_type": "code",
   "execution_count": 32,
   "id": "92a33f8b",
   "metadata": {},
   "outputs": [],
   "source": [
    "tags = pd.read_csv('C:/Users/ahmet/Desktop/Recommender_Systems/ml-latest-small/tags.csv')"
   ]
  },
  {
   "cell_type": "code",
   "execution_count": 33,
   "id": "62d340d7",
   "metadata": {},
   "outputs": [
    {
     "data": {
      "text/html": [
       "<div>\n",
       "<style scoped>\n",
       "    .dataframe tbody tr th:only-of-type {\n",
       "        vertical-align: middle;\n",
       "    }\n",
       "\n",
       "    .dataframe tbody tr th {\n",
       "        vertical-align: top;\n",
       "    }\n",
       "\n",
       "    .dataframe thead th {\n",
       "        text-align: right;\n",
       "    }\n",
       "</style>\n",
       "<table border=\"1\" class=\"dataframe\">\n",
       "  <thead>\n",
       "    <tr style=\"text-align: right;\">\n",
       "      <th></th>\n",
       "      <th>userId</th>\n",
       "      <th>movieId</th>\n",
       "      <th>tag</th>\n",
       "      <th>timestamp</th>\n",
       "    </tr>\n",
       "  </thead>\n",
       "  <tbody>\n",
       "    <tr>\n",
       "      <th>0</th>\n",
       "      <td>2</td>\n",
       "      <td>60756</td>\n",
       "      <td>funny</td>\n",
       "      <td>1445714994</td>\n",
       "    </tr>\n",
       "    <tr>\n",
       "      <th>1</th>\n",
       "      <td>2</td>\n",
       "      <td>60756</td>\n",
       "      <td>Highly quotable</td>\n",
       "      <td>1445714996</td>\n",
       "    </tr>\n",
       "    <tr>\n",
       "      <th>2</th>\n",
       "      <td>2</td>\n",
       "      <td>60756</td>\n",
       "      <td>will ferrell</td>\n",
       "      <td>1445714992</td>\n",
       "    </tr>\n",
       "    <tr>\n",
       "      <th>3</th>\n",
       "      <td>2</td>\n",
       "      <td>89774</td>\n",
       "      <td>Boxing story</td>\n",
       "      <td>1445715207</td>\n",
       "    </tr>\n",
       "    <tr>\n",
       "      <th>4</th>\n",
       "      <td>2</td>\n",
       "      <td>89774</td>\n",
       "      <td>MMA</td>\n",
       "      <td>1445715200</td>\n",
       "    </tr>\n",
       "    <tr>\n",
       "      <th>5</th>\n",
       "      <td>2</td>\n",
       "      <td>89774</td>\n",
       "      <td>Tom Hardy</td>\n",
       "      <td>1445715205</td>\n",
       "    </tr>\n",
       "    <tr>\n",
       "      <th>6</th>\n",
       "      <td>2</td>\n",
       "      <td>106782</td>\n",
       "      <td>drugs</td>\n",
       "      <td>1445715054</td>\n",
       "    </tr>\n",
       "    <tr>\n",
       "      <th>7</th>\n",
       "      <td>2</td>\n",
       "      <td>106782</td>\n",
       "      <td>Leonardo DiCaprio</td>\n",
       "      <td>1445715051</td>\n",
       "    </tr>\n",
       "    <tr>\n",
       "      <th>8</th>\n",
       "      <td>2</td>\n",
       "      <td>106782</td>\n",
       "      <td>Martin Scorsese</td>\n",
       "      <td>1445715056</td>\n",
       "    </tr>\n",
       "    <tr>\n",
       "      <th>9</th>\n",
       "      <td>7</td>\n",
       "      <td>48516</td>\n",
       "      <td>way too long</td>\n",
       "      <td>1169687325</td>\n",
       "    </tr>\n",
       "    <tr>\n",
       "      <th>10</th>\n",
       "      <td>18</td>\n",
       "      <td>431</td>\n",
       "      <td>Al Pacino</td>\n",
       "      <td>1462138765</td>\n",
       "    </tr>\n",
       "    <tr>\n",
       "      <th>11</th>\n",
       "      <td>18</td>\n",
       "      <td>431</td>\n",
       "      <td>gangster</td>\n",
       "      <td>1462138749</td>\n",
       "    </tr>\n",
       "    <tr>\n",
       "      <th>12</th>\n",
       "      <td>18</td>\n",
       "      <td>431</td>\n",
       "      <td>mafia</td>\n",
       "      <td>1462138755</td>\n",
       "    </tr>\n",
       "    <tr>\n",
       "      <th>13</th>\n",
       "      <td>18</td>\n",
       "      <td>1221</td>\n",
       "      <td>Al Pacino</td>\n",
       "      <td>1461699306</td>\n",
       "    </tr>\n",
       "    <tr>\n",
       "      <th>14</th>\n",
       "      <td>18</td>\n",
       "      <td>1221</td>\n",
       "      <td>Mafia</td>\n",
       "      <td>1461699303</td>\n",
       "    </tr>\n",
       "    <tr>\n",
       "      <th>15</th>\n",
       "      <td>18</td>\n",
       "      <td>5995</td>\n",
       "      <td>holocaust</td>\n",
       "      <td>1455735472</td>\n",
       "    </tr>\n",
       "    <tr>\n",
       "      <th>16</th>\n",
       "      <td>18</td>\n",
       "      <td>5995</td>\n",
       "      <td>true story</td>\n",
       "      <td>1455735479</td>\n",
       "    </tr>\n",
       "    <tr>\n",
       "      <th>17</th>\n",
       "      <td>18</td>\n",
       "      <td>44665</td>\n",
       "      <td>twist ending</td>\n",
       "      <td>1456948283</td>\n",
       "    </tr>\n",
       "    <tr>\n",
       "      <th>18</th>\n",
       "      <td>18</td>\n",
       "      <td>52604</td>\n",
       "      <td>Anthony Hopkins</td>\n",
       "      <td>1457650696</td>\n",
       "    </tr>\n",
       "    <tr>\n",
       "      <th>19</th>\n",
       "      <td>18</td>\n",
       "      <td>52604</td>\n",
       "      <td>courtroom drama</td>\n",
       "      <td>1457650711</td>\n",
       "    </tr>\n",
       "  </tbody>\n",
       "</table>\n",
       "</div>"
      ],
      "text/plain": [
       "    userId  movieId                tag   timestamp\n",
       "0        2    60756              funny  1445714994\n",
       "1        2    60756    Highly quotable  1445714996\n",
       "2        2    60756       will ferrell  1445714992\n",
       "3        2    89774       Boxing story  1445715207\n",
       "4        2    89774                MMA  1445715200\n",
       "5        2    89774          Tom Hardy  1445715205\n",
       "6        2   106782              drugs  1445715054\n",
       "7        2   106782  Leonardo DiCaprio  1445715051\n",
       "8        2   106782    Martin Scorsese  1445715056\n",
       "9        7    48516       way too long  1169687325\n",
       "10      18      431          Al Pacino  1462138765\n",
       "11      18      431           gangster  1462138749\n",
       "12      18      431              mafia  1462138755\n",
       "13      18     1221          Al Pacino  1461699306\n",
       "14      18     1221              Mafia  1461699303\n",
       "15      18     5995          holocaust  1455735472\n",
       "16      18     5995         true story  1455735479\n",
       "17      18    44665       twist ending  1456948283\n",
       "18      18    52604    Anthony Hopkins  1457650696\n",
       "19      18    52604    courtroom drama  1457650711"
      ]
     },
     "execution_count": 33,
     "metadata": {},
     "output_type": "execute_result"
    }
   ],
   "source": [
    "tags.head(20)"
   ]
  },
  {
   "cell_type": "code",
   "execution_count": 34,
   "id": "b0e3884a",
   "metadata": {},
   "outputs": [
    {
     "name": "stdout",
     "output_type": "stream",
     "text": [
      "<class 'pandas.core.frame.DataFrame'>\n",
      "RangeIndex: 3683 entries, 0 to 3682\n",
      "Data columns (total 4 columns):\n",
      " #   Column     Non-Null Count  Dtype \n",
      "---  ------     --------------  ----- \n",
      " 0   userId     3683 non-null   int64 \n",
      " 1   movieId    3683 non-null   int64 \n",
      " 2   tag        3683 non-null   object\n",
      " 3   timestamp  3683 non-null   int64 \n",
      "dtypes: int64(3), object(1)\n",
      "memory usage: 115.2+ KB\n"
     ]
    }
   ],
   "source": [
    "tags.info()"
   ]
  },
  {
   "cell_type": "code",
   "execution_count": 35,
   "id": "a9ef3af6",
   "metadata": {},
   "outputs": [],
   "source": [
    "tags = tags.dropna()"
   ]
  },
  {
   "cell_type": "code",
   "execution_count": 36,
   "id": "c628a726",
   "metadata": {},
   "outputs": [],
   "source": [
    "df_tags = df.copy()"
   ]
  },
  {
   "cell_type": "code",
   "execution_count": 37,
   "id": "3cae7909",
   "metadata": {},
   "outputs": [
    {
     "name": "stdout",
     "output_type": "stream",
     "text": [
      "<class 'pandas.core.frame.DataFrame'>\n",
      "Int64Index: 100836 entries, 0 to 100835\n",
      "Data columns (total 9 columns):\n",
      " #   Column            Non-Null Count   Dtype  \n",
      "---  ------            --------------   -----  \n",
      " 0   userId            100836 non-null  int64  \n",
      " 1   movieId           100836 non-null  int64  \n",
      " 2   rating            100836 non-null  float64\n",
      " 3   timestamp         100836 non-null  int64  \n",
      " 4   title             100836 non-null  object \n",
      " 5   genres            100836 non-null  object \n",
      " 6   avg_rating        100836 non-null  float64\n",
      " 7   count_rating      100836 non-null  int64  \n",
      " 8   weighted_average  100836 non-null  float64\n",
      "dtypes: float64(3), int64(4), object(2)\n",
      "memory usage: 7.7+ MB\n"
     ]
    }
   ],
   "source": [
    "df_tags.info()"
   ]
  },
  {
   "cell_type": "code",
   "execution_count": 38,
   "id": "4246b41b",
   "metadata": {},
   "outputs": [],
   "source": [
    "# tags dataframe is merged with df."
   ]
  },
  {
   "cell_type": "code",
   "execution_count": 39,
   "id": "c64cb748",
   "metadata": {},
   "outputs": [],
   "source": [
    "df_tags = df_tags.merge(tags[['movieId','tag']], on='movieId')"
   ]
  },
  {
   "cell_type": "code",
   "execution_count": 40,
   "id": "133a80d8",
   "metadata": {},
   "outputs": [
    {
     "data": {
      "text/html": [
       "<div>\n",
       "<style scoped>\n",
       "    .dataframe tbody tr th:only-of-type {\n",
       "        vertical-align: middle;\n",
       "    }\n",
       "\n",
       "    .dataframe tbody tr th {\n",
       "        vertical-align: top;\n",
       "    }\n",
       "\n",
       "    .dataframe thead th {\n",
       "        text-align: right;\n",
       "    }\n",
       "</style>\n",
       "<table border=\"1\" class=\"dataframe\">\n",
       "  <thead>\n",
       "    <tr style=\"text-align: right;\">\n",
       "      <th></th>\n",
       "      <th>userId</th>\n",
       "      <th>movieId</th>\n",
       "      <th>rating</th>\n",
       "      <th>timestamp</th>\n",
       "      <th>title</th>\n",
       "      <th>genres</th>\n",
       "      <th>avg_rating</th>\n",
       "      <th>count_rating</th>\n",
       "      <th>weighted_average</th>\n",
       "      <th>tag</th>\n",
       "    </tr>\n",
       "  </thead>\n",
       "  <tbody>\n",
       "    <tr>\n",
       "      <th>0</th>\n",
       "      <td>1</td>\n",
       "      <td>1</td>\n",
       "      <td>4.0</td>\n",
       "      <td>964982703</td>\n",
       "      <td>Toy Story (1995)</td>\n",
       "      <td>Adventure|Animation|Children|Comedy|Fantasy</td>\n",
       "      <td>3.92093</td>\n",
       "      <td>215</td>\n",
       "      <td>3.803113</td>\n",
       "      <td>pixar</td>\n",
       "    </tr>\n",
       "    <tr>\n",
       "      <th>1</th>\n",
       "      <td>1</td>\n",
       "      <td>1</td>\n",
       "      <td>4.0</td>\n",
       "      <td>964982703</td>\n",
       "      <td>Toy Story (1995)</td>\n",
       "      <td>Adventure|Animation|Children|Comedy|Fantasy</td>\n",
       "      <td>3.92093</td>\n",
       "      <td>215</td>\n",
       "      <td>3.803113</td>\n",
       "      <td>pixar</td>\n",
       "    </tr>\n",
       "    <tr>\n",
       "      <th>2</th>\n",
       "      <td>1</td>\n",
       "      <td>1</td>\n",
       "      <td>4.0</td>\n",
       "      <td>964982703</td>\n",
       "      <td>Toy Story (1995)</td>\n",
       "      <td>Adventure|Animation|Children|Comedy|Fantasy</td>\n",
       "      <td>3.92093</td>\n",
       "      <td>215</td>\n",
       "      <td>3.803113</td>\n",
       "      <td>fun</td>\n",
       "    </tr>\n",
       "    <tr>\n",
       "      <th>3</th>\n",
       "      <td>5</td>\n",
       "      <td>1</td>\n",
       "      <td>4.0</td>\n",
       "      <td>847434962</td>\n",
       "      <td>Toy Story (1995)</td>\n",
       "      <td>Adventure|Animation|Children|Comedy|Fantasy</td>\n",
       "      <td>3.92093</td>\n",
       "      <td>215</td>\n",
       "      <td>3.803113</td>\n",
       "      <td>pixar</td>\n",
       "    </tr>\n",
       "    <tr>\n",
       "      <th>4</th>\n",
       "      <td>5</td>\n",
       "      <td>1</td>\n",
       "      <td>4.0</td>\n",
       "      <td>847434962</td>\n",
       "      <td>Toy Story (1995)</td>\n",
       "      <td>Adventure|Animation|Children|Comedy|Fantasy</td>\n",
       "      <td>3.92093</td>\n",
       "      <td>215</td>\n",
       "      <td>3.803113</td>\n",
       "      <td>pixar</td>\n",
       "    </tr>\n",
       "    <tr>\n",
       "      <th>5</th>\n",
       "      <td>5</td>\n",
       "      <td>1</td>\n",
       "      <td>4.0</td>\n",
       "      <td>847434962</td>\n",
       "      <td>Toy Story (1995)</td>\n",
       "      <td>Adventure|Animation|Children|Comedy|Fantasy</td>\n",
       "      <td>3.92093</td>\n",
       "      <td>215</td>\n",
       "      <td>3.803113</td>\n",
       "      <td>fun</td>\n",
       "    </tr>\n",
       "    <tr>\n",
       "      <th>6</th>\n",
       "      <td>7</td>\n",
       "      <td>1</td>\n",
       "      <td>4.5</td>\n",
       "      <td>1106635946</td>\n",
       "      <td>Toy Story (1995)</td>\n",
       "      <td>Adventure|Animation|Children|Comedy|Fantasy</td>\n",
       "      <td>3.92093</td>\n",
       "      <td>215</td>\n",
       "      <td>3.803113</td>\n",
       "      <td>pixar</td>\n",
       "    </tr>\n",
       "    <tr>\n",
       "      <th>7</th>\n",
       "      <td>7</td>\n",
       "      <td>1</td>\n",
       "      <td>4.5</td>\n",
       "      <td>1106635946</td>\n",
       "      <td>Toy Story (1995)</td>\n",
       "      <td>Adventure|Animation|Children|Comedy|Fantasy</td>\n",
       "      <td>3.92093</td>\n",
       "      <td>215</td>\n",
       "      <td>3.803113</td>\n",
       "      <td>pixar</td>\n",
       "    </tr>\n",
       "    <tr>\n",
       "      <th>8</th>\n",
       "      <td>7</td>\n",
       "      <td>1</td>\n",
       "      <td>4.5</td>\n",
       "      <td>1106635946</td>\n",
       "      <td>Toy Story (1995)</td>\n",
       "      <td>Adventure|Animation|Children|Comedy|Fantasy</td>\n",
       "      <td>3.92093</td>\n",
       "      <td>215</td>\n",
       "      <td>3.803113</td>\n",
       "      <td>fun</td>\n",
       "    </tr>\n",
       "    <tr>\n",
       "      <th>9</th>\n",
       "      <td>15</td>\n",
       "      <td>1</td>\n",
       "      <td>2.5</td>\n",
       "      <td>1510577970</td>\n",
       "      <td>Toy Story (1995)</td>\n",
       "      <td>Adventure|Animation|Children|Comedy|Fantasy</td>\n",
       "      <td>3.92093</td>\n",
       "      <td>215</td>\n",
       "      <td>3.803113</td>\n",
       "      <td>pixar</td>\n",
       "    </tr>\n",
       "  </tbody>\n",
       "</table>\n",
       "</div>"
      ],
      "text/plain": [
       "   userId  movieId  rating   timestamp             title  \\\n",
       "0       1        1     4.0   964982703  Toy Story (1995)   \n",
       "1       1        1     4.0   964982703  Toy Story (1995)   \n",
       "2       1        1     4.0   964982703  Toy Story (1995)   \n",
       "3       5        1     4.0   847434962  Toy Story (1995)   \n",
       "4       5        1     4.0   847434962  Toy Story (1995)   \n",
       "5       5        1     4.0   847434962  Toy Story (1995)   \n",
       "6       7        1     4.5  1106635946  Toy Story (1995)   \n",
       "7       7        1     4.5  1106635946  Toy Story (1995)   \n",
       "8       7        1     4.5  1106635946  Toy Story (1995)   \n",
       "9      15        1     2.5  1510577970  Toy Story (1995)   \n",
       "\n",
       "                                        genres  avg_rating  count_rating  \\\n",
       "0  Adventure|Animation|Children|Comedy|Fantasy     3.92093           215   \n",
       "1  Adventure|Animation|Children|Comedy|Fantasy     3.92093           215   \n",
       "2  Adventure|Animation|Children|Comedy|Fantasy     3.92093           215   \n",
       "3  Adventure|Animation|Children|Comedy|Fantasy     3.92093           215   \n",
       "4  Adventure|Animation|Children|Comedy|Fantasy     3.92093           215   \n",
       "5  Adventure|Animation|Children|Comedy|Fantasy     3.92093           215   \n",
       "6  Adventure|Animation|Children|Comedy|Fantasy     3.92093           215   \n",
       "7  Adventure|Animation|Children|Comedy|Fantasy     3.92093           215   \n",
       "8  Adventure|Animation|Children|Comedy|Fantasy     3.92093           215   \n",
       "9  Adventure|Animation|Children|Comedy|Fantasy     3.92093           215   \n",
       "\n",
       "   weighted_average    tag  \n",
       "0          3.803113  pixar  \n",
       "1          3.803113  pixar  \n",
       "2          3.803113    fun  \n",
       "3          3.803113  pixar  \n",
       "4          3.803113  pixar  \n",
       "5          3.803113    fun  \n",
       "6          3.803113  pixar  \n",
       "7          3.803113  pixar  \n",
       "8          3.803113    fun  \n",
       "9          3.803113  pixar  "
      ]
     },
     "execution_count": 40,
     "metadata": {},
     "output_type": "execute_result"
    }
   ],
   "source": [
    "df_tags.head(10)"
   ]
  },
  {
   "cell_type": "markdown",
   "id": "19918007",
   "metadata": {},
   "source": [
    "### Preparing Data for Vectorization"
   ]
  },
  {
   "cell_type": "code",
   "execution_count": 41,
   "id": "c9b2d9ba",
   "metadata": {
    "scrolled": false
   },
   "outputs": [],
   "source": [
    "content = df_tags[['title','tag']].drop_duplicates().groupby('title')['tag'].apply(','.join).reset_index()"
   ]
  },
  {
   "cell_type": "code",
   "execution_count": 42,
   "id": "6a507de9",
   "metadata": {},
   "outputs": [
    {
     "data": {
      "text/html": [
       "<div>\n",
       "<style scoped>\n",
       "    .dataframe tbody tr th:only-of-type {\n",
       "        vertical-align: middle;\n",
       "    }\n",
       "\n",
       "    .dataframe tbody tr th {\n",
       "        vertical-align: top;\n",
       "    }\n",
       "\n",
       "    .dataframe thead th {\n",
       "        text-align: right;\n",
       "    }\n",
       "</style>\n",
       "<table border=\"1\" class=\"dataframe\">\n",
       "  <thead>\n",
       "    <tr style=\"text-align: right;\">\n",
       "      <th></th>\n",
       "      <th>title</th>\n",
       "      <th>tag</th>\n",
       "    </tr>\n",
       "  </thead>\n",
       "  <tbody>\n",
       "    <tr>\n",
       "      <th>0</th>\n",
       "      <td>(500) Days of Summer (2009)</td>\n",
       "      <td>artistic,Funny,humorous,inspiring,intelligent,...</td>\n",
       "    </tr>\n",
       "    <tr>\n",
       "      <th>1</th>\n",
       "      <td>...And Justice for All (1979)</td>\n",
       "      <td>lawyers</td>\n",
       "    </tr>\n",
       "    <tr>\n",
       "      <th>2</th>\n",
       "      <td>10 Cloverfield Lane (2016)</td>\n",
       "      <td>creepy,suspense</td>\n",
       "    </tr>\n",
       "    <tr>\n",
       "      <th>3</th>\n",
       "      <td>10 Things I Hate About You (1999)</td>\n",
       "      <td>Shakespeare sort of</td>\n",
       "    </tr>\n",
       "    <tr>\n",
       "      <th>4</th>\n",
       "      <td>101 Dalmatians (1996)</td>\n",
       "      <td>dogs,remake</td>\n",
       "    </tr>\n",
       "    <tr>\n",
       "      <th>...</th>\n",
       "      <td>...</td>\n",
       "      <td>...</td>\n",
       "    </tr>\n",
       "    <tr>\n",
       "      <th>1549</th>\n",
       "      <td>Zero Dark Thirty (2012)</td>\n",
       "      <td>Afghanistan,American propaganda,assassination,...</td>\n",
       "    </tr>\n",
       "    <tr>\n",
       "      <th>1550</th>\n",
       "      <td>Zombieland (2009)</td>\n",
       "      <td>Bill Murray,dark comedy,Emma Stone,funny,Jesse...</td>\n",
       "    </tr>\n",
       "    <tr>\n",
       "      <th>1551</th>\n",
       "      <td>Zoolander (2001)</td>\n",
       "      <td>ben stiller,comedy,David Bowie,goofy,mindless ...</td>\n",
       "    </tr>\n",
       "    <tr>\n",
       "      <th>1552</th>\n",
       "      <td>Zulu (1964)</td>\n",
       "      <td>Africa</td>\n",
       "    </tr>\n",
       "    <tr>\n",
       "      <th>1553</th>\n",
       "      <td>eXistenZ (1999)</td>\n",
       "      <td>virtual reality</td>\n",
       "    </tr>\n",
       "  </tbody>\n",
       "</table>\n",
       "<p>1554 rows × 2 columns</p>\n",
       "</div>"
      ],
      "text/plain": [
       "                                  title  \\\n",
       "0           (500) Days of Summer (2009)   \n",
       "1         ...And Justice for All (1979)   \n",
       "2            10 Cloverfield Lane (2016)   \n",
       "3     10 Things I Hate About You (1999)   \n",
       "4                 101 Dalmatians (1996)   \n",
       "...                                 ...   \n",
       "1549            Zero Dark Thirty (2012)   \n",
       "1550                  Zombieland (2009)   \n",
       "1551                   Zoolander (2001)   \n",
       "1552                        Zulu (1964)   \n",
       "1553                    eXistenZ (1999)   \n",
       "\n",
       "                                                    tag  \n",
       "0     artistic,Funny,humorous,inspiring,intelligent,...  \n",
       "1                                               lawyers  \n",
       "2                                       creepy,suspense  \n",
       "3                                   Shakespeare sort of  \n",
       "4                                           dogs,remake  \n",
       "...                                                 ...  \n",
       "1549  Afghanistan,American propaganda,assassination,...  \n",
       "1550  Bill Murray,dark comedy,Emma Stone,funny,Jesse...  \n",
       "1551  ben stiller,comedy,David Bowie,goofy,mindless ...  \n",
       "1552                                             Africa  \n",
       "1553                                    virtual reality  \n",
       "\n",
       "[1554 rows x 2 columns]"
      ]
     },
     "execution_count": 42,
     "metadata": {},
     "output_type": "execute_result"
    }
   ],
   "source": [
    "content"
   ]
  },
  {
   "cell_type": "code",
   "execution_count": 43,
   "id": "93644942",
   "metadata": {},
   "outputs": [],
   "source": [
    "content = content.merge(df_tags[['title', 'genres']].drop_duplicates(), on='title', how='inner')"
   ]
  },
  {
   "cell_type": "code",
   "execution_count": 44,
   "id": "5650e528",
   "metadata": {},
   "outputs": [
    {
     "data": {
      "text/html": [
       "<div>\n",
       "<style scoped>\n",
       "    .dataframe tbody tr th:only-of-type {\n",
       "        vertical-align: middle;\n",
       "    }\n",
       "\n",
       "    .dataframe tbody tr th {\n",
       "        vertical-align: top;\n",
       "    }\n",
       "\n",
       "    .dataframe thead th {\n",
       "        text-align: right;\n",
       "    }\n",
       "</style>\n",
       "<table border=\"1\" class=\"dataframe\">\n",
       "  <thead>\n",
       "    <tr style=\"text-align: right;\">\n",
       "      <th></th>\n",
       "      <th>title</th>\n",
       "      <th>tag</th>\n",
       "      <th>genres</th>\n",
       "    </tr>\n",
       "  </thead>\n",
       "  <tbody>\n",
       "    <tr>\n",
       "      <th>0</th>\n",
       "      <td>(500) Days of Summer (2009)</td>\n",
       "      <td>artistic,Funny,humorous,inspiring,intelligent,...</td>\n",
       "      <td>Comedy|Drama|Romance</td>\n",
       "    </tr>\n",
       "    <tr>\n",
       "      <th>1</th>\n",
       "      <td>...And Justice for All (1979)</td>\n",
       "      <td>lawyers</td>\n",
       "      <td>Drama|Thriller</td>\n",
       "    </tr>\n",
       "    <tr>\n",
       "      <th>2</th>\n",
       "      <td>10 Cloverfield Lane (2016)</td>\n",
       "      <td>creepy,suspense</td>\n",
       "      <td>Thriller</td>\n",
       "    </tr>\n",
       "    <tr>\n",
       "      <th>3</th>\n",
       "      <td>10 Things I Hate About You (1999)</td>\n",
       "      <td>Shakespeare sort of</td>\n",
       "      <td>Comedy|Romance</td>\n",
       "    </tr>\n",
       "    <tr>\n",
       "      <th>4</th>\n",
       "      <td>101 Dalmatians (1996)</td>\n",
       "      <td>dogs,remake</td>\n",
       "      <td>Adventure|Children|Comedy</td>\n",
       "    </tr>\n",
       "    <tr>\n",
       "      <th>...</th>\n",
       "      <td>...</td>\n",
       "      <td>...</td>\n",
       "      <td>...</td>\n",
       "    </tr>\n",
       "    <tr>\n",
       "      <th>1549</th>\n",
       "      <td>Zero Dark Thirty (2012)</td>\n",
       "      <td>Afghanistan,American propaganda,assassination,...</td>\n",
       "      <td>Action|Drama|Thriller</td>\n",
       "    </tr>\n",
       "    <tr>\n",
       "      <th>1550</th>\n",
       "      <td>Zombieland (2009)</td>\n",
       "      <td>Bill Murray,dark comedy,Emma Stone,funny,Jesse...</td>\n",
       "      <td>Action|Comedy|Horror</td>\n",
       "    </tr>\n",
       "    <tr>\n",
       "      <th>1551</th>\n",
       "      <td>Zoolander (2001)</td>\n",
       "      <td>ben stiller,comedy,David Bowie,goofy,mindless ...</td>\n",
       "      <td>Comedy</td>\n",
       "    </tr>\n",
       "    <tr>\n",
       "      <th>1552</th>\n",
       "      <td>Zulu (1964)</td>\n",
       "      <td>Africa</td>\n",
       "      <td>Action|Drama|War</td>\n",
       "    </tr>\n",
       "    <tr>\n",
       "      <th>1553</th>\n",
       "      <td>eXistenZ (1999)</td>\n",
       "      <td>virtual reality</td>\n",
       "      <td>Action|Sci-Fi|Thriller</td>\n",
       "    </tr>\n",
       "  </tbody>\n",
       "</table>\n",
       "<p>1554 rows × 3 columns</p>\n",
       "</div>"
      ],
      "text/plain": [
       "                                  title  \\\n",
       "0           (500) Days of Summer (2009)   \n",
       "1         ...And Justice for All (1979)   \n",
       "2            10 Cloverfield Lane (2016)   \n",
       "3     10 Things I Hate About You (1999)   \n",
       "4                 101 Dalmatians (1996)   \n",
       "...                                 ...   \n",
       "1549            Zero Dark Thirty (2012)   \n",
       "1550                  Zombieland (2009)   \n",
       "1551                   Zoolander (2001)   \n",
       "1552                        Zulu (1964)   \n",
       "1553                    eXistenZ (1999)   \n",
       "\n",
       "                                                    tag  \\\n",
       "0     artistic,Funny,humorous,inspiring,intelligent,...   \n",
       "1                                               lawyers   \n",
       "2                                       creepy,suspense   \n",
       "3                                   Shakespeare sort of   \n",
       "4                                           dogs,remake   \n",
       "...                                                 ...   \n",
       "1549  Afghanistan,American propaganda,assassination,...   \n",
       "1550  Bill Murray,dark comedy,Emma Stone,funny,Jesse...   \n",
       "1551  ben stiller,comedy,David Bowie,goofy,mindless ...   \n",
       "1552                                             Africa   \n",
       "1553                                    virtual reality   \n",
       "\n",
       "                         genres  \n",
       "0          Comedy|Drama|Romance  \n",
       "1                Drama|Thriller  \n",
       "2                      Thriller  \n",
       "3                Comedy|Romance  \n",
       "4     Adventure|Children|Comedy  \n",
       "...                         ...  \n",
       "1549      Action|Drama|Thriller  \n",
       "1550       Action|Comedy|Horror  \n",
       "1551                     Comedy  \n",
       "1552           Action|Drama|War  \n",
       "1553     Action|Sci-Fi|Thriller  \n",
       "\n",
       "[1554 rows x 3 columns]"
      ]
     },
     "execution_count": 44,
     "metadata": {},
     "output_type": "execute_result"
    }
   ],
   "source": [
    "content"
   ]
  },
  {
   "cell_type": "code",
   "execution_count": 45,
   "id": "7e3c690d",
   "metadata": {},
   "outputs": [],
   "source": [
    "def clean_comma(x):\n",
    "    if isinstance(x, list):\n",
    "        return [str.lower(i.replace(\",\", \" \")) for i in x]\n",
    "    else:\n",
    "        #Check if director exists. If not, return empty string\n",
    "        if isinstance(x, str):\n",
    "            return str.lower(x.replace(\",\", \" \"))\n",
    "        else:\n",
    "            return ''"
   ]
  },
  {
   "cell_type": "code",
   "execution_count": 46,
   "id": "1c4612f5",
   "metadata": {},
   "outputs": [],
   "source": [
    "def clean_or(x):\n",
    "    if isinstance(x, list):\n",
    "        return [str.lower(i.replace(\"|\", \" \")) for i in x]\n",
    "    else:\n",
    "        #Check if director exists. If not, return empty string\n",
    "        if isinstance(x, str):\n",
    "            return str.lower(x.replace(\"|\", \" \"))\n",
    "        else:\n",
    "            return ''"
   ]
  },
  {
   "cell_type": "code",
   "execution_count": 47,
   "id": "cd4f3d9a",
   "metadata": {},
   "outputs": [],
   "source": [
    "content['tag'] = content['tag'].apply(clean_comma)"
   ]
  },
  {
   "cell_type": "code",
   "execution_count": 48,
   "id": "2b27a791",
   "metadata": {},
   "outputs": [],
   "source": [
    "content['genres'] = content['genres'].apply(clean_or)"
   ]
  },
  {
   "cell_type": "code",
   "execution_count": 49,
   "id": "6d4183a1",
   "metadata": {},
   "outputs": [
    {
     "data": {
      "text/html": [
       "<div>\n",
       "<style scoped>\n",
       "    .dataframe tbody tr th:only-of-type {\n",
       "        vertical-align: middle;\n",
       "    }\n",
       "\n",
       "    .dataframe tbody tr th {\n",
       "        vertical-align: top;\n",
       "    }\n",
       "\n",
       "    .dataframe thead th {\n",
       "        text-align: right;\n",
       "    }\n",
       "</style>\n",
       "<table border=\"1\" class=\"dataframe\">\n",
       "  <thead>\n",
       "    <tr style=\"text-align: right;\">\n",
       "      <th></th>\n",
       "      <th>title</th>\n",
       "      <th>tag</th>\n",
       "      <th>genres</th>\n",
       "    </tr>\n",
       "  </thead>\n",
       "  <tbody>\n",
       "    <tr>\n",
       "      <th>0</th>\n",
       "      <td>(500) Days of Summer (2009)</td>\n",
       "      <td>artistic funny humorous inspiring intelligent ...</td>\n",
       "      <td>comedy drama romance</td>\n",
       "    </tr>\n",
       "    <tr>\n",
       "      <th>1</th>\n",
       "      <td>...And Justice for All (1979)</td>\n",
       "      <td>lawyers</td>\n",
       "      <td>drama thriller</td>\n",
       "    </tr>\n",
       "    <tr>\n",
       "      <th>2</th>\n",
       "      <td>10 Cloverfield Lane (2016)</td>\n",
       "      <td>creepy suspense</td>\n",
       "      <td>thriller</td>\n",
       "    </tr>\n",
       "    <tr>\n",
       "      <th>3</th>\n",
       "      <td>10 Things I Hate About You (1999)</td>\n",
       "      <td>shakespeare sort of</td>\n",
       "      <td>comedy romance</td>\n",
       "    </tr>\n",
       "    <tr>\n",
       "      <th>4</th>\n",
       "      <td>101 Dalmatians (1996)</td>\n",
       "      <td>dogs remake</td>\n",
       "      <td>adventure children comedy</td>\n",
       "    </tr>\n",
       "    <tr>\n",
       "      <th>...</th>\n",
       "      <td>...</td>\n",
       "      <td>...</td>\n",
       "      <td>...</td>\n",
       "    </tr>\n",
       "    <tr>\n",
       "      <th>1549</th>\n",
       "      <td>Zero Dark Thirty (2012)</td>\n",
       "      <td>afghanistan american propaganda assassination ...</td>\n",
       "      <td>action drama thriller</td>\n",
       "    </tr>\n",
       "    <tr>\n",
       "      <th>1550</th>\n",
       "      <td>Zombieland (2009)</td>\n",
       "      <td>bill murray dark comedy emma stone funny jesse...</td>\n",
       "      <td>action comedy horror</td>\n",
       "    </tr>\n",
       "    <tr>\n",
       "      <th>1551</th>\n",
       "      <td>Zoolander (2001)</td>\n",
       "      <td>ben stiller comedy david bowie goofy mindless ...</td>\n",
       "      <td>comedy</td>\n",
       "    </tr>\n",
       "    <tr>\n",
       "      <th>1552</th>\n",
       "      <td>Zulu (1964)</td>\n",
       "      <td>africa</td>\n",
       "      <td>action drama war</td>\n",
       "    </tr>\n",
       "    <tr>\n",
       "      <th>1553</th>\n",
       "      <td>eXistenZ (1999)</td>\n",
       "      <td>virtual reality</td>\n",
       "      <td>action sci-fi thriller</td>\n",
       "    </tr>\n",
       "  </tbody>\n",
       "</table>\n",
       "<p>1554 rows × 3 columns</p>\n",
       "</div>"
      ],
      "text/plain": [
       "                                  title  \\\n",
       "0           (500) Days of Summer (2009)   \n",
       "1         ...And Justice for All (1979)   \n",
       "2            10 Cloverfield Lane (2016)   \n",
       "3     10 Things I Hate About You (1999)   \n",
       "4                 101 Dalmatians (1996)   \n",
       "...                                 ...   \n",
       "1549            Zero Dark Thirty (2012)   \n",
       "1550                  Zombieland (2009)   \n",
       "1551                   Zoolander (2001)   \n",
       "1552                        Zulu (1964)   \n",
       "1553                    eXistenZ (1999)   \n",
       "\n",
       "                                                    tag  \\\n",
       "0     artistic funny humorous inspiring intelligent ...   \n",
       "1                                               lawyers   \n",
       "2                                       creepy suspense   \n",
       "3                                   shakespeare sort of   \n",
       "4                                           dogs remake   \n",
       "...                                                 ...   \n",
       "1549  afghanistan american propaganda assassination ...   \n",
       "1550  bill murray dark comedy emma stone funny jesse...   \n",
       "1551  ben stiller comedy david bowie goofy mindless ...   \n",
       "1552                                             africa   \n",
       "1553                                    virtual reality   \n",
       "\n",
       "                         genres  \n",
       "0          comedy drama romance  \n",
       "1                drama thriller  \n",
       "2                      thriller  \n",
       "3                comedy romance  \n",
       "4     adventure children comedy  \n",
       "...                         ...  \n",
       "1549      action drama thriller  \n",
       "1550       action comedy horror  \n",
       "1551                     comedy  \n",
       "1552           action drama war  \n",
       "1553     action sci-fi thriller  \n",
       "\n",
       "[1554 rows x 3 columns]"
      ]
     },
     "execution_count": 49,
     "metadata": {},
     "output_type": "execute_result"
    }
   ],
   "source": [
    "content"
   ]
  },
  {
   "cell_type": "code",
   "execution_count": 50,
   "id": "a32fd832",
   "metadata": {},
   "outputs": [],
   "source": [
    "def combine(x):\n",
    "    return ''.join(x['tag']) + ' ' + ''.join(x['genres'])"
   ]
  },
  {
   "cell_type": "code",
   "execution_count": 51,
   "id": "07543fff",
   "metadata": {},
   "outputs": [],
   "source": [
    "content['combined'] = content.apply(combine, axis=1)"
   ]
  },
  {
   "cell_type": "code",
   "execution_count": 52,
   "id": "fc94fdff",
   "metadata": {},
   "outputs": [
    {
     "data": {
      "text/html": [
       "<div>\n",
       "<style scoped>\n",
       "    .dataframe tbody tr th:only-of-type {\n",
       "        vertical-align: middle;\n",
       "    }\n",
       "\n",
       "    .dataframe tbody tr th {\n",
       "        vertical-align: top;\n",
       "    }\n",
       "\n",
       "    .dataframe thead th {\n",
       "        text-align: right;\n",
       "    }\n",
       "</style>\n",
       "<table border=\"1\" class=\"dataframe\">\n",
       "  <thead>\n",
       "    <tr style=\"text-align: right;\">\n",
       "      <th></th>\n",
       "      <th>title</th>\n",
       "      <th>tag</th>\n",
       "      <th>genres</th>\n",
       "      <th>combined</th>\n",
       "    </tr>\n",
       "  </thead>\n",
       "  <tbody>\n",
       "    <tr>\n",
       "      <th>0</th>\n",
       "      <td>(500) Days of Summer (2009)</td>\n",
       "      <td>artistic funny humorous inspiring intelligent ...</td>\n",
       "      <td>comedy drama romance</td>\n",
       "      <td>artistic funny humorous inspiring intelligent ...</td>\n",
       "    </tr>\n",
       "    <tr>\n",
       "      <th>1</th>\n",
       "      <td>...And Justice for All (1979)</td>\n",
       "      <td>lawyers</td>\n",
       "      <td>drama thriller</td>\n",
       "      <td>lawyers drama thriller</td>\n",
       "    </tr>\n",
       "    <tr>\n",
       "      <th>2</th>\n",
       "      <td>10 Cloverfield Lane (2016)</td>\n",
       "      <td>creepy suspense</td>\n",
       "      <td>thriller</td>\n",
       "      <td>creepy suspense thriller</td>\n",
       "    </tr>\n",
       "    <tr>\n",
       "      <th>3</th>\n",
       "      <td>10 Things I Hate About You (1999)</td>\n",
       "      <td>shakespeare sort of</td>\n",
       "      <td>comedy romance</td>\n",
       "      <td>shakespeare sort of comedy romance</td>\n",
       "    </tr>\n",
       "    <tr>\n",
       "      <th>4</th>\n",
       "      <td>101 Dalmatians (1996)</td>\n",
       "      <td>dogs remake</td>\n",
       "      <td>adventure children comedy</td>\n",
       "      <td>dogs remake adventure children comedy</td>\n",
       "    </tr>\n",
       "    <tr>\n",
       "      <th>...</th>\n",
       "      <td>...</td>\n",
       "      <td>...</td>\n",
       "      <td>...</td>\n",
       "      <td>...</td>\n",
       "    </tr>\n",
       "    <tr>\n",
       "      <th>1549</th>\n",
       "      <td>Zero Dark Thirty (2012)</td>\n",
       "      <td>afghanistan american propaganda assassination ...</td>\n",
       "      <td>action drama thriller</td>\n",
       "      <td>afghanistan american propaganda assassination ...</td>\n",
       "    </tr>\n",
       "    <tr>\n",
       "      <th>1550</th>\n",
       "      <td>Zombieland (2009)</td>\n",
       "      <td>bill murray dark comedy emma stone funny jesse...</td>\n",
       "      <td>action comedy horror</td>\n",
       "      <td>bill murray dark comedy emma stone funny jesse...</td>\n",
       "    </tr>\n",
       "    <tr>\n",
       "      <th>1551</th>\n",
       "      <td>Zoolander (2001)</td>\n",
       "      <td>ben stiller comedy david bowie goofy mindless ...</td>\n",
       "      <td>comedy</td>\n",
       "      <td>ben stiller comedy david bowie goofy mindless ...</td>\n",
       "    </tr>\n",
       "    <tr>\n",
       "      <th>1552</th>\n",
       "      <td>Zulu (1964)</td>\n",
       "      <td>africa</td>\n",
       "      <td>action drama war</td>\n",
       "      <td>africa action drama war</td>\n",
       "    </tr>\n",
       "    <tr>\n",
       "      <th>1553</th>\n",
       "      <td>eXistenZ (1999)</td>\n",
       "      <td>virtual reality</td>\n",
       "      <td>action sci-fi thriller</td>\n",
       "      <td>virtual reality action sci-fi thriller</td>\n",
       "    </tr>\n",
       "  </tbody>\n",
       "</table>\n",
       "<p>1554 rows × 4 columns</p>\n",
       "</div>"
      ],
      "text/plain": [
       "                                  title  \\\n",
       "0           (500) Days of Summer (2009)   \n",
       "1         ...And Justice for All (1979)   \n",
       "2            10 Cloverfield Lane (2016)   \n",
       "3     10 Things I Hate About You (1999)   \n",
       "4                 101 Dalmatians (1996)   \n",
       "...                                 ...   \n",
       "1549            Zero Dark Thirty (2012)   \n",
       "1550                  Zombieland (2009)   \n",
       "1551                   Zoolander (2001)   \n",
       "1552                        Zulu (1964)   \n",
       "1553                    eXistenZ (1999)   \n",
       "\n",
       "                                                    tag  \\\n",
       "0     artistic funny humorous inspiring intelligent ...   \n",
       "1                                               lawyers   \n",
       "2                                       creepy suspense   \n",
       "3                                   shakespeare sort of   \n",
       "4                                           dogs remake   \n",
       "...                                                 ...   \n",
       "1549  afghanistan american propaganda assassination ...   \n",
       "1550  bill murray dark comedy emma stone funny jesse...   \n",
       "1551  ben stiller comedy david bowie goofy mindless ...   \n",
       "1552                                             africa   \n",
       "1553                                    virtual reality   \n",
       "\n",
       "                         genres  \\\n",
       "0          comedy drama romance   \n",
       "1                drama thriller   \n",
       "2                      thriller   \n",
       "3                comedy romance   \n",
       "4     adventure children comedy   \n",
       "...                         ...   \n",
       "1549      action drama thriller   \n",
       "1550       action comedy horror   \n",
       "1551                     comedy   \n",
       "1552           action drama war   \n",
       "1553     action sci-fi thriller   \n",
       "\n",
       "                                               combined  \n",
       "0     artistic funny humorous inspiring intelligent ...  \n",
       "1                                lawyers drama thriller  \n",
       "2                              creepy suspense thriller  \n",
       "3                    shakespeare sort of comedy romance  \n",
       "4                 dogs remake adventure children comedy  \n",
       "...                                                 ...  \n",
       "1549  afghanistan american propaganda assassination ...  \n",
       "1550  bill murray dark comedy emma stone funny jesse...  \n",
       "1551  ben stiller comedy david bowie goofy mindless ...  \n",
       "1552                            africa action drama war  \n",
       "1553             virtual reality action sci-fi thriller  \n",
       "\n",
       "[1554 rows x 4 columns]"
      ]
     },
     "execution_count": 52,
     "metadata": {},
     "output_type": "execute_result"
    }
   ],
   "source": [
    "content"
   ]
  },
  {
   "cell_type": "markdown",
   "id": "774a8856",
   "metadata": {},
   "source": [
    "### a. TF-IDF Vectorizer"
   ]
  },
  {
   "cell_type": "code",
   "execution_count": 53,
   "id": "344b5a08",
   "metadata": {},
   "outputs": [],
   "source": [
    "tfidf = TfidfVectorizer(stop_words='english')"
   ]
  },
  {
   "cell_type": "code",
   "execution_count": 54,
   "id": "d605e0b6",
   "metadata": {},
   "outputs": [],
   "source": [
    "tfidf_matrix = tfidf.fit_transform(content['combined'])"
   ]
  },
  {
   "cell_type": "code",
   "execution_count": 55,
   "id": "3e46399a",
   "metadata": {},
   "outputs": [
    {
     "data": {
      "text/plain": [
       "(1554, 1675)"
      ]
     },
     "execution_count": 55,
     "metadata": {},
     "output_type": "execute_result"
    }
   ],
   "source": [
    "tfidf_matrix.shape"
   ]
  },
  {
   "cell_type": "code",
   "execution_count": 56,
   "id": "247c5ec3",
   "metadata": {},
   "outputs": [],
   "source": [
    "cosine_sim = linear_kernel(tfidf_matrix, tfidf_matrix)"
   ]
  },
  {
   "cell_type": "code",
   "execution_count": 57,
   "id": "a3d65ed5",
   "metadata": {},
   "outputs": [
    {
     "data": {
      "text/plain": [
       "(1554, 1554)"
      ]
     },
     "execution_count": 57,
     "metadata": {},
     "output_type": "execute_result"
    }
   ],
   "source": [
    "cosine_sim.shape"
   ]
  },
  {
   "cell_type": "code",
   "execution_count": 58,
   "id": "9cb0e8d6",
   "metadata": {},
   "outputs": [
    {
     "data": {
      "text/plain": [
       "array([0.01757195, 1.        , 0.11521301, ..., 0.        , 0.04185061,\n",
       "       0.08330907])"
      ]
     },
     "execution_count": 58,
     "metadata": {},
     "output_type": "execute_result"
    }
   ],
   "source": [
    "cosine_sim[1]"
   ]
  },
  {
   "cell_type": "code",
   "execution_count": 59,
   "id": "489ae69c",
   "metadata": {},
   "outputs": [],
   "source": [
    "new_index = pd.Series(content.index, index=content['title'])"
   ]
  },
  {
   "cell_type": "code",
   "execution_count": 60,
   "id": "11cc5a30",
   "metadata": {},
   "outputs": [
    {
     "data": {
      "text/plain": [
       "title\n",
       "(500) Days of Summer (2009)                                0\n",
       "...And Justice for All (1979)                              1\n",
       "10 Cloverfield Lane (2016)                                 2\n",
       "10 Things I Hate About You (1999)                          3\n",
       "101 Dalmatians (1996)                                      4\n",
       "101 Dalmatians (One Hundred and One Dalmatians) (1961)     5\n",
       "11'09\"01 - September 11 (2002)                             6\n",
       "12 Angry Men (1957)                                        7\n",
       "127 Hours (2010)                                           8\n",
       "13 Going on 30 (2004)                                      9\n",
       "2001: A Space Odyssey (1968)                              10\n",
       "21 Grams (2003)                                           11\n",
       "25th Hour (2002)                                          12\n",
       "28 Days Later (2002)                                      13\n",
       "39 Steps, The (1935)                                      14\n",
       "3:10 to Yuma (2007)                                       15\n",
       "40-Year-Old Virgin, The (2005)                            16\n",
       "400 Blows, The (Les quatre cents coups) (1959)            17\n",
       "42 Up (1998)                                              18\n",
       "84 Charing Cross Road (1987)                              19\n",
       "dtype: int64"
      ]
     },
     "execution_count": 60,
     "metadata": {},
     "output_type": "execute_result"
    }
   ],
   "source": [
    "new_index[:20]"
   ]
  },
  {
   "cell_type": "markdown",
   "id": "26505940",
   "metadata": {},
   "source": [
    "### Recommendation Function"
   ]
  },
  {
   "cell_type": "code",
   "execution_count": 61,
   "id": "6dd9326f",
   "metadata": {},
   "outputs": [],
   "source": [
    "def get_recommendations(title, cosine_sim=cosine_sim):\n",
    "    # Get the index of the movie that matches the title\n",
    "    idx = new_index[title]\n",
    "\n",
    "    # Get the pairwsie similarity scores of all movies with that movie\n",
    "    sim_scores = list(enumerate(cosine_sim[idx]))\n",
    "\n",
    "    # Sort the movies based on the similarity scores\n",
    "    sim_scores = sorted(sim_scores, key=lambda x: x[1], reverse=True)\n",
    "\n",
    "    # Get the scores of the 10 most similar movies\n",
    "    sim_scores = sim_scores[1:11]\n",
    "\n",
    "    # Get the movie indices\n",
    "    movie_indices = [i[0] for i in sim_scores]\n",
    "\n",
    "    # Return the top 10 most similar movies\n",
    "    return content['title'].iloc[movie_indices]"
   ]
  },
  {
   "cell_type": "markdown",
   "id": "415406b1",
   "metadata": {},
   "source": [
    "#### Recommendations based on Content-Based Recommender"
   ]
  },
  {
   "cell_type": "code",
   "execution_count": 62,
   "id": "bcd28d27",
   "metadata": {},
   "outputs": [
    {
     "data": {
      "text/plain": [
       "364              Donnie Brasco (1997)\n",
       "515             Godfather, The (1972)\n",
       "532                 Goodfellas (1990)\n",
       "834         Married to the Mob (1988)\n",
       "913             My Blue Heaven (1990)\n",
       "870          Miller's Crossing (1990)\n",
       "516    Godfather: Part II, The (1974)\n",
       "226              Carlito's Way (1993)\n",
       "56           American Gangster (2007)\n",
       "124             Beat the Devil (1953)\n",
       "Name: title, dtype: object"
      ]
     },
     "execution_count": 62,
     "metadata": {},
     "output_type": "execute_result"
    }
   ],
   "source": [
    "get_recommendations('Godfather, The (1972)')"
   ]
  },
  {
   "cell_type": "markdown",
   "id": "fe53f109",
   "metadata": {},
   "source": [
    "### b. Count Vectorizer"
   ]
  },
  {
   "cell_type": "code",
   "execution_count": 63,
   "id": "5f00f0c8",
   "metadata": {},
   "outputs": [],
   "source": [
    "count = CountVectorizer(stop_words='english')"
   ]
  },
  {
   "cell_type": "code",
   "execution_count": 64,
   "id": "fa18c0f8",
   "metadata": {},
   "outputs": [],
   "source": [
    "count_matrix = count.fit_transform(content['combined'])"
   ]
  },
  {
   "cell_type": "code",
   "execution_count": 65,
   "id": "281668e0",
   "metadata": {},
   "outputs": [
    {
     "data": {
      "text/plain": [
       "(1554, 1675)"
      ]
     },
     "execution_count": 65,
     "metadata": {},
     "output_type": "execute_result"
    }
   ],
   "source": [
    "count_matrix.shape"
   ]
  },
  {
   "cell_type": "code",
   "execution_count": 66,
   "id": "6f9024bd",
   "metadata": {},
   "outputs": [],
   "source": [
    "cosine_sim2 = cosine_similarity(count_matrix, count_matrix)"
   ]
  },
  {
   "cell_type": "markdown",
   "id": "4ef530fc",
   "metadata": {},
   "source": [
    "#### Recommendations based on Content-Based Recommender"
   ]
  },
  {
   "cell_type": "code",
   "execution_count": 67,
   "id": "85aa38da",
   "metadata": {},
   "outputs": [
    {
     "data": {
      "text/plain": [
       "364              Donnie Brasco (1997)\n",
       "515             Godfather, The (1972)\n",
       "532                 Goodfellas (1990)\n",
       "516    Godfather: Part II, The (1974)\n",
       "12                   25th Hour (2002)\n",
       "226              Carlito's Way (1993)\n",
       "870          Miller's Crossing (1990)\n",
       "56           American Gangster (2007)\n",
       "92         Au Hasard Balthazar (1966)\n",
       "136       Better Luck Tomorrow (2002)\n",
       "Name: title, dtype: object"
      ]
     },
     "execution_count": 67,
     "metadata": {},
     "output_type": "execute_result"
    }
   ],
   "source": [
    "get_recommendations('Godfather, The (1972)', cosine_sim2)"
   ]
  },
  {
   "cell_type": "markdown",
   "id": "eb380249",
   "metadata": {},
   "source": [
    "# 3. COLLABORATIVE FILTERING"
   ]
  },
  {
   "cell_type": "markdown",
   "id": "de29ba7b",
   "metadata": {},
   "source": [
    "* Try to predict the rating that a user would give based on past ratings of other users.\n",
    "* Created embedding layer having embedding vectors of users and movies."
   ]
  },
  {
   "cell_type": "markdown",
   "id": "a1df54f7",
   "metadata": {},
   "source": [
    "### Preparing Data"
   ]
  },
  {
   "cell_type": "code",
   "execution_count": 68,
   "id": "25db2a74",
   "metadata": {},
   "outputs": [
    {
     "data": {
      "text/html": [
       "<div>\n",
       "<style scoped>\n",
       "    .dataframe tbody tr th:only-of-type {\n",
       "        vertical-align: middle;\n",
       "    }\n",
       "\n",
       "    .dataframe tbody tr th {\n",
       "        vertical-align: top;\n",
       "    }\n",
       "\n",
       "    .dataframe thead th {\n",
       "        text-align: right;\n",
       "    }\n",
       "</style>\n",
       "<table border=\"1\" class=\"dataframe\">\n",
       "  <thead>\n",
       "    <tr style=\"text-align: right;\">\n",
       "      <th></th>\n",
       "      <th>userId</th>\n",
       "      <th>movieId</th>\n",
       "      <th>rating</th>\n",
       "      <th>timestamp</th>\n",
       "    </tr>\n",
       "  </thead>\n",
       "  <tbody>\n",
       "    <tr>\n",
       "      <th>23217</th>\n",
       "      <td>159</td>\n",
       "      <td>103141</td>\n",
       "      <td>3.0</td>\n",
       "      <td>1508640379</td>\n",
       "    </tr>\n",
       "    <tr>\n",
       "      <th>1131</th>\n",
       "      <td>10</td>\n",
       "      <td>2671</td>\n",
       "      <td>3.5</td>\n",
       "      <td>1455357517</td>\n",
       "    </tr>\n",
       "    <tr>\n",
       "      <th>87216</th>\n",
       "      <td>562</td>\n",
       "      <td>4034</td>\n",
       "      <td>4.5</td>\n",
       "      <td>1368895142</td>\n",
       "    </tr>\n",
       "    <tr>\n",
       "      <th>49736</th>\n",
       "      <td>318</td>\n",
       "      <td>100044</td>\n",
       "      <td>4.0</td>\n",
       "      <td>1426414317</td>\n",
       "    </tr>\n",
       "    <tr>\n",
       "      <th>19697</th>\n",
       "      <td>129</td>\n",
       "      <td>648</td>\n",
       "      <td>4.0</td>\n",
       "      <td>1167376093</td>\n",
       "    </tr>\n",
       "  </tbody>\n",
       "</table>\n",
       "</div>"
      ],
      "text/plain": [
       "       userId  movieId  rating   timestamp\n",
       "23217     159   103141     3.0  1508640379\n",
       "1131       10     2671     3.5  1455357517\n",
       "87216     562     4034     4.5  1368895142\n",
       "49736     318   100044     4.0  1426414317\n",
       "19697     129      648     4.0  1167376093"
      ]
     },
     "execution_count": 68,
     "metadata": {},
     "output_type": "execute_result"
    }
   ],
   "source": [
    "ratings.sample(5)"
   ]
  },
  {
   "cell_type": "code",
   "execution_count": 69,
   "id": "0d5857aa",
   "metadata": {},
   "outputs": [],
   "source": [
    "# Map user ID to a \"user vector\" via an embedding matrix\n",
    "user_ids = ratings[\"userId\"].unique().tolist()\n",
    "user2user_encoded = {x: i for i, x in enumerate(user_ids)}"
   ]
  },
  {
   "cell_type": "code",
   "execution_count": 70,
   "id": "a90436e3",
   "metadata": {},
   "outputs": [],
   "source": [
    "# Map movies ID to a \"movies vector\" via an embedding matrix\n",
    "movie_ids = ratings[\"movieId\"].unique().tolist()\n",
    "movie2movie_encoded = {x: i for i, x in enumerate(movie_ids)}"
   ]
  },
  {
   "cell_type": "code",
   "execution_count": 71,
   "id": "f7d9c980",
   "metadata": {},
   "outputs": [],
   "source": [
    "ratings[\"user\"] = ratings[\"userId\"].map(user2user_encoded)\n",
    "ratings[\"movie\"] = ratings[\"movieId\"].map(movie2movie_encoded)"
   ]
  },
  {
   "cell_type": "code",
   "execution_count": 72,
   "id": "1af4f379",
   "metadata": {},
   "outputs": [],
   "source": [
    "num_users = len(user2user_encoded)\n",
    "num_movies = len(movie2movie_encoded)\n",
    "ratings['rating'] = ratings['rating'].values.astype(np.float32)"
   ]
  },
  {
   "cell_type": "code",
   "execution_count": 73,
   "id": "a98836ac",
   "metadata": {},
   "outputs": [],
   "source": [
    "# min and max ratings will be used to normalize the ratings later\n",
    "min_rating = min(ratings[\"rating\"])\n",
    "max_rating = max(ratings[\"rating\"])"
   ]
  },
  {
   "cell_type": "code",
   "execution_count": 74,
   "id": "73b58028",
   "metadata": {},
   "outputs": [
    {
     "name": "stdout",
     "output_type": "stream",
     "text": [
      "Number of users: 610, Number of Movies: 9724, Min Rating: 0.5, Max Rating: 5.0\n"
     ]
    }
   ],
   "source": [
    "print(f\"Number of users: {num_users}, Number of Movies: {num_movies}, Min Rating: {min_rating}, Max Rating: {max_rating}\")"
   ]
  },
  {
   "cell_type": "code",
   "execution_count": 75,
   "id": "0e941c50",
   "metadata": {},
   "outputs": [],
   "source": [
    "# Normalizing the targets between 0 and 1. Makes it easy to train.\n",
    "ratings[\"rating\"] = ratings[\"rating\"].apply(lambda x: (x - min_rating) / (max_rating - min_rating))"
   ]
  },
  {
   "cell_type": "code",
   "execution_count": 76,
   "id": "fbb8327b",
   "metadata": {},
   "outputs": [
    {
     "data": {
      "text/html": [
       "<div>\n",
       "<style scoped>\n",
       "    .dataframe tbody tr th:only-of-type {\n",
       "        vertical-align: middle;\n",
       "    }\n",
       "\n",
       "    .dataframe tbody tr th {\n",
       "        vertical-align: top;\n",
       "    }\n",
       "\n",
       "    .dataframe thead th {\n",
       "        text-align: right;\n",
       "    }\n",
       "</style>\n",
       "<table border=\"1\" class=\"dataframe\">\n",
       "  <thead>\n",
       "    <tr style=\"text-align: right;\">\n",
       "      <th></th>\n",
       "      <th>userId</th>\n",
       "      <th>movieId</th>\n",
       "      <th>rating</th>\n",
       "      <th>timestamp</th>\n",
       "      <th>user</th>\n",
       "      <th>movie</th>\n",
       "    </tr>\n",
       "  </thead>\n",
       "  <tbody>\n",
       "    <tr>\n",
       "      <th>0</th>\n",
       "      <td>1</td>\n",
       "      <td>1</td>\n",
       "      <td>0.777778</td>\n",
       "      <td>964982703</td>\n",
       "      <td>0</td>\n",
       "      <td>0</td>\n",
       "    </tr>\n",
       "    <tr>\n",
       "      <th>1</th>\n",
       "      <td>1</td>\n",
       "      <td>3</td>\n",
       "      <td>0.777778</td>\n",
       "      <td>964981247</td>\n",
       "      <td>0</td>\n",
       "      <td>1</td>\n",
       "    </tr>\n",
       "    <tr>\n",
       "      <th>2</th>\n",
       "      <td>1</td>\n",
       "      <td>6</td>\n",
       "      <td>0.777778</td>\n",
       "      <td>964982224</td>\n",
       "      <td>0</td>\n",
       "      <td>2</td>\n",
       "    </tr>\n",
       "    <tr>\n",
       "      <th>3</th>\n",
       "      <td>1</td>\n",
       "      <td>47</td>\n",
       "      <td>1.000000</td>\n",
       "      <td>964983815</td>\n",
       "      <td>0</td>\n",
       "      <td>3</td>\n",
       "    </tr>\n",
       "    <tr>\n",
       "      <th>4</th>\n",
       "      <td>1</td>\n",
       "      <td>50</td>\n",
       "      <td>1.000000</td>\n",
       "      <td>964982931</td>\n",
       "      <td>0</td>\n",
       "      <td>4</td>\n",
       "    </tr>\n",
       "    <tr>\n",
       "      <th>...</th>\n",
       "      <td>...</td>\n",
       "      <td>...</td>\n",
       "      <td>...</td>\n",
       "      <td>...</td>\n",
       "      <td>...</td>\n",
       "      <td>...</td>\n",
       "    </tr>\n",
       "    <tr>\n",
       "      <th>100831</th>\n",
       "      <td>610</td>\n",
       "      <td>166534</td>\n",
       "      <td>0.777778</td>\n",
       "      <td>1493848402</td>\n",
       "      <td>609</td>\n",
       "      <td>3120</td>\n",
       "    </tr>\n",
       "    <tr>\n",
       "      <th>100832</th>\n",
       "      <td>610</td>\n",
       "      <td>168248</td>\n",
       "      <td>1.000000</td>\n",
       "      <td>1493850091</td>\n",
       "      <td>609</td>\n",
       "      <td>2035</td>\n",
       "    </tr>\n",
       "    <tr>\n",
       "      <th>100833</th>\n",
       "      <td>610</td>\n",
       "      <td>168250</td>\n",
       "      <td>1.000000</td>\n",
       "      <td>1494273047</td>\n",
       "      <td>609</td>\n",
       "      <td>3121</td>\n",
       "    </tr>\n",
       "    <tr>\n",
       "      <th>100834</th>\n",
       "      <td>610</td>\n",
       "      <td>168252</td>\n",
       "      <td>1.000000</td>\n",
       "      <td>1493846352</td>\n",
       "      <td>609</td>\n",
       "      <td>1392</td>\n",
       "    </tr>\n",
       "    <tr>\n",
       "      <th>100835</th>\n",
       "      <td>610</td>\n",
       "      <td>170875</td>\n",
       "      <td>0.555556</td>\n",
       "      <td>1493846415</td>\n",
       "      <td>609</td>\n",
       "      <td>2873</td>\n",
       "    </tr>\n",
       "  </tbody>\n",
       "</table>\n",
       "<p>100836 rows × 6 columns</p>\n",
       "</div>"
      ],
      "text/plain": [
       "        userId  movieId    rating   timestamp  user  movie\n",
       "0            1        1  0.777778   964982703     0      0\n",
       "1            1        3  0.777778   964981247     0      1\n",
       "2            1        6  0.777778   964982224     0      2\n",
       "3            1       47  1.000000   964983815     0      3\n",
       "4            1       50  1.000000   964982931     0      4\n",
       "...        ...      ...       ...         ...   ...    ...\n",
       "100831     610   166534  0.777778  1493848402   609   3120\n",
       "100832     610   168248  1.000000  1493850091   609   2035\n",
       "100833     610   168250  1.000000  1494273047   609   3121\n",
       "100834     610   168252  1.000000  1493846352   609   1392\n",
       "100835     610   170875  0.555556  1493846415   609   2873\n",
       "\n",
       "[100836 rows x 6 columns]"
      ]
     },
     "execution_count": 76,
     "metadata": {},
     "output_type": "execute_result"
    }
   ],
   "source": [
    "ratings"
   ]
  },
  {
   "cell_type": "code",
   "execution_count": 77,
   "id": "36cc4690",
   "metadata": {},
   "outputs": [],
   "source": [
    "# Assuming training except for the last 5 ratings and validating the last 5 ratings\n",
    "train = ratings.sort_values(['userId','timestamp'],ascending=True).groupby('userId').apply(lambda x:x.iloc[5:]).set_index(np.arange(97786))\n",
    "test = ratings.sort_values(['userId','timestamp'],ascending=True).groupby('userId').apply(lambda x:x.iloc[:5]).set_index(np.arange(3050))"
   ]
  },
  {
   "cell_type": "code",
   "execution_count": 78,
   "id": "f5e7e4db",
   "metadata": {},
   "outputs": [],
   "source": [
    "X_train = train[[\"user\", \"movie\"]].values\n",
    "X_val = test[[\"user\", \"movie\"]].values\n",
    "y_train = train[\"rating\"].values\n",
    "y_val = test[\"rating\"].values"
   ]
  },
  {
   "cell_type": "markdown",
   "id": "3918d7de",
   "metadata": {},
   "source": [
    "### Model"
   ]
  },
  {
   "cell_type": "code",
   "execution_count": 79,
   "id": "5ee4e2a8",
   "metadata": {},
   "outputs": [],
   "source": [
    "class CollaborativeRecommender(keras.Model):\n",
    "    \n",
    "    def __init__(self, num_users, num_movies, embedding_size, **kwargs):\n",
    "        super(CollaborativeRecommender, self).__init__(**kwargs)\n",
    "        self.num_users = num_users\n",
    "        self.num_movies = num_movies\n",
    "        self.embedding_size = embedding_size\n",
    "        self.user_embedding = keras.layers.Embedding(\n",
    "            num_users,\n",
    "            embedding_size,\n",
    "            embeddings_initializer=\"lecun_normal\",\n",
    "            embeddings_regularizer=keras.regularizers.l2(),\n",
    "        )\n",
    "        self.user_bias = keras.layers.Embedding(num_users, 1)\n",
    "        \n",
    "        self.movie_embedding = keras.layers.Embedding(\n",
    "            num_movies,\n",
    "            embedding_size,\n",
    "            embeddings_initializer=\"lecun_normal\",\n",
    "            embeddings_regularizer=keras.regularizers.l2()\n",
    "        )\n",
    "        self.movie_bias = keras.layers.Embedding(num_movies, 1)\n",
    "        \n",
    "    def call(self, inputs):\n",
    "        user_vector = self.user_embedding(inputs[:, 0])\n",
    "        user_bias = self.user_bias(inputs[:, 0])\n",
    "        movie_vector = self.movie_embedding(inputs[:, 1])\n",
    "        movie_bias = self.movie_bias(inputs[:, 1])\n",
    "        dot_user_movie = tf.tensordot(user_vector, movie_vector, 2)\n",
    "        # Add all the components (including bias)\n",
    "        x = dot_user_movie + user_bias + movie_bias\n",
    "        # The sigmoid activation forces the rating to be between 0 and 1\n",
    "        return tf.nn.sigmoid(x)"
   ]
  },
  {
   "cell_type": "code",
   "execution_count": 80,
   "id": "3c74fc12",
   "metadata": {},
   "outputs": [],
   "source": [
    "EMBEDDING_SIZE = 100"
   ]
  },
  {
   "cell_type": "code",
   "execution_count": 81,
   "id": "e89236ab",
   "metadata": {},
   "outputs": [],
   "source": [
    "model = CollaborativeRecommender(num_users, num_movies, EMBEDDING_SIZE)\n",
    "model.compile(\n",
    "    loss=tf.keras.losses.MeanSquaredError(), \n",
    "    optimizer=keras.optimizers.Adam(),\n",
    "    metrics=[\"accuracy\", tf.keras.metrics.Recall(), tf.keras.metrics.Precision()]\n",
    ")"
   ]
  },
  {
   "cell_type": "code",
   "execution_count": 82,
   "id": "e0e60262",
   "metadata": {},
   "outputs": [
    {
     "name": "stdout",
     "output_type": "stream",
     "text": [
      "Epoch 1/5\n",
      "3056/3056 [==============================] - 21s 7ms/step - loss: 0.0680 - accuracy: 0.1289 - recall: 0.9117 - precision: 0.9902 - val_loss: 0.0599 - val_accuracy: 0.2102 - val_recall: 0.9840 - val_precision: 0.9860\n",
      "Epoch 2/5\n",
      "3056/3056 [==============================] - 20s 7ms/step - loss: 0.0417 - accuracy: 0.1327 - recall: 0.9248 - precision: 0.9911 - val_loss: 0.0515 - val_accuracy: 0.2115 - val_recall: 0.9787 - val_precision: 0.9875\n",
      "Epoch 3/5\n",
      "3056/3056 [==============================] - 20s 7ms/step - loss: 0.0375 - accuracy: 0.1334 - recall: 0.9164 - precision: 0.9916 - val_loss: 0.0492 - val_accuracy: 0.2115 - val_recall: 0.9713 - val_precision: 0.9878\n",
      "Epoch 4/5\n",
      "3056/3056 [==============================] - 20s 7ms/step - loss: 0.0357 - accuracy: 0.1339 - recall: 0.9085 - precision: 0.9922 - val_loss: 0.0483 - val_accuracy: 0.2128 - val_recall: 0.9650 - val_precision: 0.9887\n",
      "Epoch 5/5\n",
      "3056/3056 [==============================] - 20s 7ms/step - loss: 0.0347 - accuracy: 0.1343 - recall: 0.9011 - precision: 0.9926 - val_loss: 0.0479 - val_accuracy: 0.2131 - val_recall: 0.9610 - val_precision: 0.9894\n"
     ]
    }
   ],
   "source": [
    "trained_model = model.fit(\n",
    "    x = X_train,\n",
    "    y = y_train,\n",
    "    epochs = 5,\n",
    "    verbose = 1,\n",
    "    validation_data = (X_val, y_val)\n",
    ")"
   ]
  },
  {
   "cell_type": "code",
   "execution_count": 83,
   "id": "a425b2b7",
   "metadata": {},
   "outputs": [
    {
     "data": {
      "image/png": "[encoded data removed]",
      "text/plain": [
       "<Figure size 432x288 with 1 Axes>"
      ]
     },
     "metadata": {
      "needs_background": "light"
     },
     "output_type": "display_data"
    }
   ],
   "source": [
    "plt.plot(trained_model.history['loss'], label='loss')\n",
    "plt.plot(trained_model.history['val_loss'], label='val_loss')\n",
    "plt.title('model_loss')\n",
    "plt.ylabel('loss')\n",
    "plt.xlabel('epoch')\n",
    "plt.legend();"
   ]
  },
  {
   "cell_type": "code",
   "execution_count": 84,
   "id": "3ee5fa00",
   "metadata": {},
   "outputs": [
    {
     "data": {
      "image/png": "[encoded data removed]",
      "text/plain": [
       "<Figure size 432x288 with 1 Axes>"
      ]
     },
     "metadata": {
      "needs_background": "light"
     },
     "output_type": "display_data"
    }
   ],
   "source": [
    "plt.plot(trained_model.history['accuracy'], label='accuracy')\n",
    "plt.plot(trained_model.history['val_accuracy'], label='val_accuracy')\n",
    "plt.title('model_accuracy')\n",
    "plt.ylabel('accuracy')\n",
    "plt.xlabel('epoch')\n",
    "plt.legend();"
   ]
  },
  {
   "cell_type": "code",
   "execution_count": 85,
   "id": "4491d454",
   "metadata": {},
   "outputs": [
    {
     "data": {
      "image/png": "[encoded data removed]",
      "text/plain": [
       "<Figure size 432x288 with 1 Axes>"
      ]
     },
     "metadata": {
      "needs_background": "light"
     },
     "output_type": "display_data"
    }
   ],
   "source": [
    "plt.plot(trained_model.history['precision'], label='precision')\n",
    "plt.plot(trained_model.history['val_precision'], label='val_precision')\n",
    "plt.title('model_precision')\n",
    "plt.ylabel('precision')\n",
    "plt.xlabel('epoch')\n",
    "plt.legend();"
   ]
  },
  {
   "cell_type": "code",
   "execution_count": 86,
   "id": "085f0ce9",
   "metadata": {},
   "outputs": [
    {
     "data": {
      "image/png": "[encoded data removed]",
      "text/plain": [
       "<Figure size 432x288 with 1 Axes>"
      ]
     },
     "metadata": {
      "needs_background": "light"
     },
     "output_type": "display_data"
    }
   ],
   "source": [
    "plt.plot(trained_model.history['recall'], label='recall')\n",
    "plt.plot(trained_model.history['val_recall'], label='val_recall')\n",
    "plt.title('model_recall')\n",
    "plt.ylabel('recall')\n",
    "plt.xlabel('epoch')\n",
    "plt.legend();"
   ]
  },
  {
   "cell_type": "markdown",
   "id": "baf6fb62",
   "metadata": {},
   "source": [
    "#### Recommendations based on Collaborative Filtering"
   ]
  },
  {
   "cell_type": "code",
   "execution_count": 87,
   "id": "fbdb34b8",
   "metadata": {},
   "outputs": [],
   "source": [
    "def recommend_movie(sample_user_id):\n",
    "    movies_watched_by_user = ratings[ratings.userId == sample_user_id]\n",
    "    movies_not_watched = movies[~movies['movieId'].isin(movies_watched_by_user.movieId.values)]['movieId']\n",
    "    movies_not_watched = list(set(movies_not_watched).intersection(set(movie2movie_encoded.keys())))\n",
    "    movies_not_watched = [[movie2movie_encoded.get(x)] for x in movies_not_watched]\n",
    "    user_encoder = user2user_encoded.get(sample_user_id)\n",
    "    user_movie_array = np.hstack(([[user_encoder]] * len(movies_not_watched), movies_not_watched))\n",
    "    recommendations = model.predict(user_movie_array).flatten()\n",
    "    top_ratings_indices = recommendations.argsort()[-6:][::-1]\n",
    "    recommended_movie_ids = [movie2movie_encoded.get(movies_not_watched[x][0]) for x in top_ratings_indices]\n",
    "    return movies[movies[\"movieId\"].isin(recommended_movie_ids)]"
   ]
  },
  {
   "cell_type": "code",
   "execution_count": 88,
   "id": "7b998fd4",
   "metadata": {},
   "outputs": [
    {
     "data": {
      "text/plain": [
       "328"
      ]
     },
     "execution_count": 88,
     "metadata": {},
     "output_type": "execute_result"
    }
   ],
   "source": [
    "sample_user_id = df.userId.sample(1).iloc[0]\n",
    "sample_user_id"
   ]
  },
  {
   "cell_type": "code",
   "execution_count": 89,
   "id": "1e34a3f3",
   "metadata": {
    "scrolled": false
   },
   "outputs": [
    {
     "data": {
      "text/html": [
       "<div>\n",
       "<style scoped>\n",
       "    .dataframe tbody tr th:only-of-type {\n",
       "        vertical-align: middle;\n",
       "    }\n",
       "\n",
       "    .dataframe tbody tr th {\n",
       "        vertical-align: top;\n",
       "    }\n",
       "\n",
       "    .dataframe thead th {\n",
       "        text-align: right;\n",
       "    }\n",
       "</style>\n",
       "<table border=\"1\" class=\"dataframe\">\n",
       "  <thead>\n",
       "    <tr style=\"text-align: right;\">\n",
       "      <th></th>\n",
       "      <th>movieId</th>\n",
       "      <th>title</th>\n",
       "      <th>genres</th>\n",
       "    </tr>\n",
       "  </thead>\n",
       "  <tbody>\n",
       "    <tr>\n",
       "      <th>126</th>\n",
       "      <td>153</td>\n",
       "      <td>Batman Forever (1995)</td>\n",
       "      <td>Action|Adventure|Comedy|Crime</td>\n",
       "    </tr>\n",
       "    <tr>\n",
       "      <th>401</th>\n",
       "      <td>460</td>\n",
       "      <td>Getting Even with Dad (1994)</td>\n",
       "      <td>Comedy</td>\n",
       "    </tr>\n",
       "  </tbody>\n",
       "</table>\n",
       "</div>"
      ],
      "text/plain": [
       "     movieId                         title                         genres\n",
       "126      153         Batman Forever (1995)  Action|Adventure|Comedy|Crime\n",
       "401      460  Getting Even with Dad (1994)                         Comedy"
      ]
     },
     "execution_count": 89,
     "metadata": {},
     "output_type": "execute_result"
    }
   ],
   "source": [
    "recommend_movie(sample_user_id)"
   ]
  },
  {
   "cell_type": "code",
   "execution_count": 90,
   "id": "7d763fd0",
   "metadata": {},
   "outputs": [
    {
     "name": "stdout",
     "output_type": "stream",
     "text": [
      "Showing recommendations for user: 328\n",
      "-----------------------------------\n",
      "The last 5 movies rated by the user\n",
      "-----------------------------------\n",
      "Usual Suspects, The (1995) : Crime|Mystery|Thriller\n",
      "Shawshank Redemption, The (1994) : Crime|Drama\n",
      "Godfather, The (1972) : Crime|Drama\n",
      "Fight Club (1999) : Action|Crime|Drama|Thriller\n",
      "Dark Knight, The (2008) : Action|Crime|Drama|IMAX\n",
      "-----------------------------------\n",
      "The top 5 movies recommendations\n",
      "-----------------------------------\n",
      "Batman Forever (1995) : Action|Adventure|Comedy|Crime\n",
      "Getting Even with Dad (1994) : Comedy\n"
     ]
    }
   ],
   "source": [
    "print(\"Showing recommendations for user: {}\".format(sample_user_id))\n",
    "print(\"-------\" * 5)\n",
    "print(\"The last 5 movies rated by the user\")\n",
    "print(\"-------\" * 5)\n",
    "trail = test[test.userId == sample_user_id].movieId.values\n",
    "movies_rows = movies[movies[\"movieId\"].isin(trail)]\n",
    "for row in movies_rows.itertuples():\n",
    "    print(row.title, \":\", row.genres)\n",
    "\n",
    "print(\"-------\" * 5)\n",
    "print(\"The top 5 movies recommendations\")\n",
    "print(\"-------\" * 5)\n",
    "recommended_movies = recommend_movie(sample_user_id)\n",
    "for row in recommended_movies.itertuples():\n",
    "    print(row.title, \":\", row.genres)"
   ]
  },
  {
   "cell_type": "code",
   "execution_count": null,
   "id": "d4192eb9",
   "metadata": {},
   "outputs": [],
   "source": []
  }
 ],
 "metadata": {
  "kernelspec": {
   "display_name": "Python 3 (ipykernel)",
   "language": "python",
   "name": "python3"
  },
  "language_info": {
   "codemirror_mode": {
    "name": "ipython",
    "version": 3
   },
   "file_extension": ".py",
   "mimetype": "text/x-python",
   "name": "python",
   "nbconvert_exporter": "python",
   "pygments_lexer": "ipython3",
   "version": "3.9.5"
  }
 },
 "nbformat": 4,
 "nbformat_minor": 5
}
